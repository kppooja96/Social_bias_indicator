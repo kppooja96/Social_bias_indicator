{
  "nbformat": 4,
  "nbformat_minor": 0,
  "metadata": {
    "colab": {
      "provenance": [],
      "machine_shape": "hm"
    },
    "kernelspec": {
      "name": "python3",
      "display_name": "Python 3"
    },
    "language_info": {
      "name": "python"
    },
    "accelerator": "GPU",
    "gpuClass": "standard",
    "widgets": {
      "application/vnd.jupyter.widget-state+json": {
        "1d874e6c3b6445fb9f26368a1b0f91ac": {
          "model_module": "@jupyter-widgets/controls",
          "model_name": "HBoxModel",
          "model_module_version": "1.5.0",
          "state": {
            "_dom_classes": [],
            "_model_module": "@jupyter-widgets/controls",
            "_model_module_version": "1.5.0",
            "_model_name": "HBoxModel",
            "_view_count": null,
            "_view_module": "@jupyter-widgets/controls",
            "_view_module_version": "1.5.0",
            "_view_name": "HBoxView",
            "box_style": "",
            "children": [
              "IPY_MODEL_58c48f07dbc949f0b5db9cf4d0f62362",
              "IPY_MODEL_06b225ddbf72404b8ca6d0451846ca6e",
              "IPY_MODEL_9fd74f84d7624edaa0520745e1f5e931"
            ],
            "layout": "IPY_MODEL_39980112967a4e6c9b0dd27927c4270d"
          }
        },
        "58c48f07dbc949f0b5db9cf4d0f62362": {
          "model_module": "@jupyter-widgets/controls",
          "model_name": "HTMLModel",
          "model_module_version": "1.5.0",
          "state": {
            "_dom_classes": [],
            "_model_module": "@jupyter-widgets/controls",
            "_model_module_version": "1.5.0",
            "_model_name": "HTMLModel",
            "_view_count": null,
            "_view_module": "@jupyter-widgets/controls",
            "_view_module_version": "1.5.0",
            "_view_name": "HTMLView",
            "description": "",
            "description_tooltip": null,
            "layout": "IPY_MODEL_0aa88f67a3cc44cca37709fc028494df",
            "placeholder": "​",
            "style": "IPY_MODEL_9560a8856ac841699ba291bf0e2c2bc0",
            "value": "Downloading: 100%"
          }
        },
        "06b225ddbf72404b8ca6d0451846ca6e": {
          "model_module": "@jupyter-widgets/controls",
          "model_name": "FloatProgressModel",
          "model_module_version": "1.5.0",
          "state": {
            "_dom_classes": [],
            "_model_module": "@jupyter-widgets/controls",
            "_model_module_version": "1.5.0",
            "_model_name": "FloatProgressModel",
            "_view_count": null,
            "_view_module": "@jupyter-widgets/controls",
            "_view_module_version": "1.5.0",
            "_view_name": "ProgressView",
            "bar_style": "success",
            "description": "",
            "description_tooltip": null,
            "layout": "IPY_MODEL_10ec2febe61c4bec81946baf0804e62e",
            "max": 1042301,
            "min": 0,
            "orientation": "horizontal",
            "style": "IPY_MODEL_b686b13224a343dca49ce5fa872f1dd6",
            "value": 1042301
          }
        },
        "9fd74f84d7624edaa0520745e1f5e931": {
          "model_module": "@jupyter-widgets/controls",
          "model_name": "HTMLModel",
          "model_module_version": "1.5.0",
          "state": {
            "_dom_classes": [],
            "_model_module": "@jupyter-widgets/controls",
            "_model_module_version": "1.5.0",
            "_model_name": "HTMLModel",
            "_view_count": null,
            "_view_module": "@jupyter-widgets/controls",
            "_view_module_version": "1.5.0",
            "_view_name": "HTMLView",
            "description": "",
            "description_tooltip": null,
            "layout": "IPY_MODEL_fb42d01f4cfb4d4b91d035ba09177a36",
            "placeholder": "​",
            "style": "IPY_MODEL_517eb531588f498ba163b57d123a0c42",
            "value": " 1.04M/1.04M [00:01&lt;00:00, 991kB/s]"
          }
        },
        "39980112967a4e6c9b0dd27927c4270d": {
          "model_module": "@jupyter-widgets/base",
          "model_name": "LayoutModel",
          "model_module_version": "1.2.0",
          "state": {
            "_model_module": "@jupyter-widgets/base",
            "_model_module_version": "1.2.0",
            "_model_name": "LayoutModel",
            "_view_count": null,
            "_view_module": "@jupyter-widgets/base",
            "_view_module_version": "1.2.0",
            "_view_name": "LayoutView",
            "align_content": null,
            "align_items": null,
            "align_self": null,
            "border": null,
            "bottom": null,
            "display": null,
            "flex": null,
            "flex_flow": null,
            "grid_area": null,
            "grid_auto_columns": null,
            "grid_auto_flow": null,
            "grid_auto_rows": null,
            "grid_column": null,
            "grid_gap": null,
            "grid_row": null,
            "grid_template_areas": null,
            "grid_template_columns": null,
            "grid_template_rows": null,
            "height": null,
            "justify_content": null,
            "justify_items": null,
            "left": null,
            "margin": null,
            "max_height": null,
            "max_width": null,
            "min_height": null,
            "min_width": null,
            "object_fit": null,
            "object_position": null,
            "order": null,
            "overflow": null,
            "overflow_x": null,
            "overflow_y": null,
            "padding": null,
            "right": null,
            "top": null,
            "visibility": null,
            "width": null
          }
        },
        "0aa88f67a3cc44cca37709fc028494df": {
          "model_module": "@jupyter-widgets/base",
          "model_name": "LayoutModel",
          "model_module_version": "1.2.0",
          "state": {
            "_model_module": "@jupyter-widgets/base",
            "_model_module_version": "1.2.0",
            "_model_name": "LayoutModel",
            "_view_count": null,
            "_view_module": "@jupyter-widgets/base",
            "_view_module_version": "1.2.0",
            "_view_name": "LayoutView",
            "align_content": null,
            "align_items": null,
            "align_self": null,
            "border": null,
            "bottom": null,
            "display": null,
            "flex": null,
            "flex_flow": null,
            "grid_area": null,
            "grid_auto_columns": null,
            "grid_auto_flow": null,
            "grid_auto_rows": null,
            "grid_column": null,
            "grid_gap": null,
            "grid_row": null,
            "grid_template_areas": null,
            "grid_template_columns": null,
            "grid_template_rows": null,
            "height": null,
            "justify_content": null,
            "justify_items": null,
            "left": null,
            "margin": null,
            "max_height": null,
            "max_width": null,
            "min_height": null,
            "min_width": null,
            "object_fit": null,
            "object_position": null,
            "order": null,
            "overflow": null,
            "overflow_x": null,
            "overflow_y": null,
            "padding": null,
            "right": null,
            "top": null,
            "visibility": null,
            "width": null
          }
        },
        "9560a8856ac841699ba291bf0e2c2bc0": {
          "model_module": "@jupyter-widgets/controls",
          "model_name": "DescriptionStyleModel",
          "model_module_version": "1.5.0",
          "state": {
            "_model_module": "@jupyter-widgets/controls",
            "_model_module_version": "1.5.0",
            "_model_name": "DescriptionStyleModel",
            "_view_count": null,
            "_view_module": "@jupyter-widgets/base",
            "_view_module_version": "1.2.0",
            "_view_name": "StyleView",
            "description_width": ""
          }
        },
        "10ec2febe61c4bec81946baf0804e62e": {
          "model_module": "@jupyter-widgets/base",
          "model_name": "LayoutModel",
          "model_module_version": "1.2.0",
          "state": {
            "_model_module": "@jupyter-widgets/base",
            "_model_module_version": "1.2.0",
            "_model_name": "LayoutModel",
            "_view_count": null,
            "_view_module": "@jupyter-widgets/base",
            "_view_module_version": "1.2.0",
            "_view_name": "LayoutView",
            "align_content": null,
            "align_items": null,
            "align_self": null,
            "border": null,
            "bottom": null,
            "display": null,
            "flex": null,
            "flex_flow": null,
            "grid_area": null,
            "grid_auto_columns": null,
            "grid_auto_flow": null,
            "grid_auto_rows": null,
            "grid_column": null,
            "grid_gap": null,
            "grid_row": null,
            "grid_template_areas": null,
            "grid_template_columns": null,
            "grid_template_rows": null,
            "height": null,
            "justify_content": null,
            "justify_items": null,
            "left": null,
            "margin": null,
            "max_height": null,
            "max_width": null,
            "min_height": null,
            "min_width": null,
            "object_fit": null,
            "object_position": null,
            "order": null,
            "overflow": null,
            "overflow_x": null,
            "overflow_y": null,
            "padding": null,
            "right": null,
            "top": null,
            "visibility": null,
            "width": null
          }
        },
        "b686b13224a343dca49ce5fa872f1dd6": {
          "model_module": "@jupyter-widgets/controls",
          "model_name": "ProgressStyleModel",
          "model_module_version": "1.5.0",
          "state": {
            "_model_module": "@jupyter-widgets/controls",
            "_model_module_version": "1.5.0",
            "_model_name": "ProgressStyleModel",
            "_view_count": null,
            "_view_module": "@jupyter-widgets/base",
            "_view_module_version": "1.2.0",
            "_view_name": "StyleView",
            "bar_color": null,
            "description_width": ""
          }
        },
        "fb42d01f4cfb4d4b91d035ba09177a36": {
          "model_module": "@jupyter-widgets/base",
          "model_name": "LayoutModel",
          "model_module_version": "1.2.0",
          "state": {
            "_model_module": "@jupyter-widgets/base",
            "_model_module_version": "1.2.0",
            "_model_name": "LayoutModel",
            "_view_count": null,
            "_view_module": "@jupyter-widgets/base",
            "_view_module_version": "1.2.0",
            "_view_name": "LayoutView",
            "align_content": null,
            "align_items": null,
            "align_self": null,
            "border": null,
            "bottom": null,
            "display": null,
            "flex": null,
            "flex_flow": null,
            "grid_area": null,
            "grid_auto_columns": null,
            "grid_auto_flow": null,
            "grid_auto_rows": null,
            "grid_column": null,
            "grid_gap": null,
            "grid_row": null,
            "grid_template_areas": null,
            "grid_template_columns": null,
            "grid_template_rows": null,
            "height": null,
            "justify_content": null,
            "justify_items": null,
            "left": null,
            "margin": null,
            "max_height": null,
            "max_width": null,
            "min_height": null,
            "min_width": null,
            "object_fit": null,
            "object_position": null,
            "order": null,
            "overflow": null,
            "overflow_x": null,
            "overflow_y": null,
            "padding": null,
            "right": null,
            "top": null,
            "visibility": null,
            "width": null
          }
        },
        "517eb531588f498ba163b57d123a0c42": {
          "model_module": "@jupyter-widgets/controls",
          "model_name": "DescriptionStyleModel",
          "model_module_version": "1.5.0",
          "state": {
            "_model_module": "@jupyter-widgets/controls",
            "_model_module_version": "1.5.0",
            "_model_name": "DescriptionStyleModel",
            "_view_count": null,
            "_view_module": "@jupyter-widgets/base",
            "_view_module_version": "1.2.0",
            "_view_name": "StyleView",
            "description_width": ""
          }
        },
        "04bb57767fdf446abb0bcf429d0d59d0": {
          "model_module": "@jupyter-widgets/controls",
          "model_name": "HBoxModel",
          "model_module_version": "1.5.0",
          "state": {
            "_dom_classes": [],
            "_model_module": "@jupyter-widgets/controls",
            "_model_module_version": "1.5.0",
            "_model_name": "HBoxModel",
            "_view_count": null,
            "_view_module": "@jupyter-widgets/controls",
            "_view_module_version": "1.5.0",
            "_view_name": "HBoxView",
            "box_style": "",
            "children": [
              "IPY_MODEL_cabbb74f2e7f44c381cfb77776965d96",
              "IPY_MODEL_c1670c6c716b4a1f85cf8feb17588690",
              "IPY_MODEL_30880cc0dc4548aab8d5035057297ca6"
            ],
            "layout": "IPY_MODEL_2bcd7ca6fbb140dd8ed203230b9fe770"
          }
        },
        "cabbb74f2e7f44c381cfb77776965d96": {
          "model_module": "@jupyter-widgets/controls",
          "model_name": "HTMLModel",
          "model_module_version": "1.5.0",
          "state": {
            "_dom_classes": [],
            "_model_module": "@jupyter-widgets/controls",
            "_model_module_version": "1.5.0",
            "_model_name": "HTMLModel",
            "_view_count": null,
            "_view_module": "@jupyter-widgets/controls",
            "_view_module_version": "1.5.0",
            "_view_name": "HTMLView",
            "description": "",
            "description_tooltip": null,
            "layout": "IPY_MODEL_f1f554a04f634202926ffe6b276eaefd",
            "placeholder": "​",
            "style": "IPY_MODEL_f7ba9cabd3264918b8c38502f31d8bd9",
            "value": "Downloading: 100%"
          }
        },
        "c1670c6c716b4a1f85cf8feb17588690": {
          "model_module": "@jupyter-widgets/controls",
          "model_name": "FloatProgressModel",
          "model_module_version": "1.5.0",
          "state": {
            "_dom_classes": [],
            "_model_module": "@jupyter-widgets/controls",
            "_model_module_version": "1.5.0",
            "_model_name": "FloatProgressModel",
            "_view_count": null,
            "_view_module": "@jupyter-widgets/controls",
            "_view_module_version": "1.5.0",
            "_view_name": "ProgressView",
            "bar_style": "success",
            "description": "",
            "description_tooltip": null,
            "layout": "IPY_MODEL_e49191467d1b4d47bdf6e2990ac69dea",
            "max": 456318,
            "min": 0,
            "orientation": "horizontal",
            "style": "IPY_MODEL_a64373f94585412590cde3030e0cc4dd",
            "value": 456318
          }
        },
        "30880cc0dc4548aab8d5035057297ca6": {
          "model_module": "@jupyter-widgets/controls",
          "model_name": "HTMLModel",
          "model_module_version": "1.5.0",
          "state": {
            "_dom_classes": [],
            "_model_module": "@jupyter-widgets/controls",
            "_model_module_version": "1.5.0",
            "_model_name": "HTMLModel",
            "_view_count": null,
            "_view_module": "@jupyter-widgets/controls",
            "_view_module_version": "1.5.0",
            "_view_name": "HTMLView",
            "description": "",
            "description_tooltip": null,
            "layout": "IPY_MODEL_6751b601a3ac47e19a787a5a8dfb2204",
            "placeholder": "​",
            "style": "IPY_MODEL_3dfe16c15210410bba31282cb2f799ab",
            "value": " 456k/456k [00:01&lt;00:00, 501kB/s]"
          }
        },
        "2bcd7ca6fbb140dd8ed203230b9fe770": {
          "model_module": "@jupyter-widgets/base",
          "model_name": "LayoutModel",
          "model_module_version": "1.2.0",
          "state": {
            "_model_module": "@jupyter-widgets/base",
            "_model_module_version": "1.2.0",
            "_model_name": "LayoutModel",
            "_view_count": null,
            "_view_module": "@jupyter-widgets/base",
            "_view_module_version": "1.2.0",
            "_view_name": "LayoutView",
            "align_content": null,
            "align_items": null,
            "align_self": null,
            "border": null,
            "bottom": null,
            "display": null,
            "flex": null,
            "flex_flow": null,
            "grid_area": null,
            "grid_auto_columns": null,
            "grid_auto_flow": null,
            "grid_auto_rows": null,
            "grid_column": null,
            "grid_gap": null,
            "grid_row": null,
            "grid_template_areas": null,
            "grid_template_columns": null,
            "grid_template_rows": null,
            "height": null,
            "justify_content": null,
            "justify_items": null,
            "left": null,
            "margin": null,
            "max_height": null,
            "max_width": null,
            "min_height": null,
            "min_width": null,
            "object_fit": null,
            "object_position": null,
            "order": null,
            "overflow": null,
            "overflow_x": null,
            "overflow_y": null,
            "padding": null,
            "right": null,
            "top": null,
            "visibility": null,
            "width": null
          }
        },
        "f1f554a04f634202926ffe6b276eaefd": {
          "model_module": "@jupyter-widgets/base",
          "model_name": "LayoutModel",
          "model_module_version": "1.2.0",
          "state": {
            "_model_module": "@jupyter-widgets/base",
            "_model_module_version": "1.2.0",
            "_model_name": "LayoutModel",
            "_view_count": null,
            "_view_module": "@jupyter-widgets/base",
            "_view_module_version": "1.2.0",
            "_view_name": "LayoutView",
            "align_content": null,
            "align_items": null,
            "align_self": null,
            "border": null,
            "bottom": null,
            "display": null,
            "flex": null,
            "flex_flow": null,
            "grid_area": null,
            "grid_auto_columns": null,
            "grid_auto_flow": null,
            "grid_auto_rows": null,
            "grid_column": null,
            "grid_gap": null,
            "grid_row": null,
            "grid_template_areas": null,
            "grid_template_columns": null,
            "grid_template_rows": null,
            "height": null,
            "justify_content": null,
            "justify_items": null,
            "left": null,
            "margin": null,
            "max_height": null,
            "max_width": null,
            "min_height": null,
            "min_width": null,
            "object_fit": null,
            "object_position": null,
            "order": null,
            "overflow": null,
            "overflow_x": null,
            "overflow_y": null,
            "padding": null,
            "right": null,
            "top": null,
            "visibility": null,
            "width": null
          }
        },
        "f7ba9cabd3264918b8c38502f31d8bd9": {
          "model_module": "@jupyter-widgets/controls",
          "model_name": "DescriptionStyleModel",
          "model_module_version": "1.5.0",
          "state": {
            "_model_module": "@jupyter-widgets/controls",
            "_model_module_version": "1.5.0",
            "_model_name": "DescriptionStyleModel",
            "_view_count": null,
            "_view_module": "@jupyter-widgets/base",
            "_view_module_version": "1.2.0",
            "_view_name": "StyleView",
            "description_width": ""
          }
        },
        "e49191467d1b4d47bdf6e2990ac69dea": {
          "model_module": "@jupyter-widgets/base",
          "model_name": "LayoutModel",
          "model_module_version": "1.2.0",
          "state": {
            "_model_module": "@jupyter-widgets/base",
            "_model_module_version": "1.2.0",
            "_model_name": "LayoutModel",
            "_view_count": null,
            "_view_module": "@jupyter-widgets/base",
            "_view_module_version": "1.2.0",
            "_view_name": "LayoutView",
            "align_content": null,
            "align_items": null,
            "align_self": null,
            "border": null,
            "bottom": null,
            "display": null,
            "flex": null,
            "flex_flow": null,
            "grid_area": null,
            "grid_auto_columns": null,
            "grid_auto_flow": null,
            "grid_auto_rows": null,
            "grid_column": null,
            "grid_gap": null,
            "grid_row": null,
            "grid_template_areas": null,
            "grid_template_columns": null,
            "grid_template_rows": null,
            "height": null,
            "justify_content": null,
            "justify_items": null,
            "left": null,
            "margin": null,
            "max_height": null,
            "max_width": null,
            "min_height": null,
            "min_width": null,
            "object_fit": null,
            "object_position": null,
            "order": null,
            "overflow": null,
            "overflow_x": null,
            "overflow_y": null,
            "padding": null,
            "right": null,
            "top": null,
            "visibility": null,
            "width": null
          }
        },
        "a64373f94585412590cde3030e0cc4dd": {
          "model_module": "@jupyter-widgets/controls",
          "model_name": "ProgressStyleModel",
          "model_module_version": "1.5.0",
          "state": {
            "_model_module": "@jupyter-widgets/controls",
            "_model_module_version": "1.5.0",
            "_model_name": "ProgressStyleModel",
            "_view_count": null,
            "_view_module": "@jupyter-widgets/base",
            "_view_module_version": "1.2.0",
            "_view_name": "StyleView",
            "bar_color": null,
            "description_width": ""
          }
        },
        "6751b601a3ac47e19a787a5a8dfb2204": {
          "model_module": "@jupyter-widgets/base",
          "model_name": "LayoutModel",
          "model_module_version": "1.2.0",
          "state": {
            "_model_module": "@jupyter-widgets/base",
            "_model_module_version": "1.2.0",
            "_model_name": "LayoutModel",
            "_view_count": null,
            "_view_module": "@jupyter-widgets/base",
            "_view_module_version": "1.2.0",
            "_view_name": "LayoutView",
            "align_content": null,
            "align_items": null,
            "align_self": null,
            "border": null,
            "bottom": null,
            "display": null,
            "flex": null,
            "flex_flow": null,
            "grid_area": null,
            "grid_auto_columns": null,
            "grid_auto_flow": null,
            "grid_auto_rows": null,
            "grid_column": null,
            "grid_gap": null,
            "grid_row": null,
            "grid_template_areas": null,
            "grid_template_columns": null,
            "grid_template_rows": null,
            "height": null,
            "justify_content": null,
            "justify_items": null,
            "left": null,
            "margin": null,
            "max_height": null,
            "max_width": null,
            "min_height": null,
            "min_width": null,
            "object_fit": null,
            "object_position": null,
            "order": null,
            "overflow": null,
            "overflow_x": null,
            "overflow_y": null,
            "padding": null,
            "right": null,
            "top": null,
            "visibility": null,
            "width": null
          }
        },
        "3dfe16c15210410bba31282cb2f799ab": {
          "model_module": "@jupyter-widgets/controls",
          "model_name": "DescriptionStyleModel",
          "model_module_version": "1.5.0",
          "state": {
            "_model_module": "@jupyter-widgets/controls",
            "_model_module_version": "1.5.0",
            "_model_name": "DescriptionStyleModel",
            "_view_count": null,
            "_view_module": "@jupyter-widgets/base",
            "_view_module_version": "1.2.0",
            "_view_name": "StyleView",
            "description_width": ""
          }
        },
        "d983e770e7dc4927a50b7bfb4155811a": {
          "model_module": "@jupyter-widgets/controls",
          "model_name": "HBoxModel",
          "model_module_version": "1.5.0",
          "state": {
            "_dom_classes": [],
            "_model_module": "@jupyter-widgets/controls",
            "_model_module_version": "1.5.0",
            "_model_name": "HBoxModel",
            "_view_count": null,
            "_view_module": "@jupyter-widgets/controls",
            "_view_module_version": "1.5.0",
            "_view_name": "HBoxView",
            "box_style": "",
            "children": [
              "IPY_MODEL_fcd9fa5c0a0b44d98e4f00c7abdb7e25",
              "IPY_MODEL_4596c42fd71748b0a236e331080cef07",
              "IPY_MODEL_3e3af7553d944dad9223b98302899551"
            ],
            "layout": "IPY_MODEL_6f23eab79ee54e1d8b660458d165a553"
          }
        },
        "fcd9fa5c0a0b44d98e4f00c7abdb7e25": {
          "model_module": "@jupyter-widgets/controls",
          "model_name": "HTMLModel",
          "model_module_version": "1.5.0",
          "state": {
            "_dom_classes": [],
            "_model_module": "@jupyter-widgets/controls",
            "_model_module_version": "1.5.0",
            "_model_name": "HTMLModel",
            "_view_count": null,
            "_view_module": "@jupyter-widgets/controls",
            "_view_module_version": "1.5.0",
            "_view_name": "HTMLView",
            "description": "",
            "description_tooltip": null,
            "layout": "IPY_MODEL_dd69dd46916d4418bc6d52d6783472b4",
            "placeholder": "​",
            "style": "IPY_MODEL_aaa3fc14ac1944828c7851dba1e9844c",
            "value": "Downloading: 100%"
          }
        },
        "4596c42fd71748b0a236e331080cef07": {
          "model_module": "@jupyter-widgets/controls",
          "model_name": "FloatProgressModel",
          "model_module_version": "1.5.0",
          "state": {
            "_dom_classes": [],
            "_model_module": "@jupyter-widgets/controls",
            "_model_module_version": "1.5.0",
            "_model_name": "FloatProgressModel",
            "_view_count": null,
            "_view_module": "@jupyter-widgets/controls",
            "_view_module_version": "1.5.0",
            "_view_name": "ProgressView",
            "bar_style": "success",
            "description": "",
            "description_tooltip": null,
            "layout": "IPY_MODEL_a33cb0ac3ee74f1cbbc6c18025c24548",
            "max": 665,
            "min": 0,
            "orientation": "horizontal",
            "style": "IPY_MODEL_454c58d204ec4cf2be929d1bce8d04b9",
            "value": 665
          }
        },
        "3e3af7553d944dad9223b98302899551": {
          "model_module": "@jupyter-widgets/controls",
          "model_name": "HTMLModel",
          "model_module_version": "1.5.0",
          "state": {
            "_dom_classes": [],
            "_model_module": "@jupyter-widgets/controls",
            "_model_module_version": "1.5.0",
            "_model_name": "HTMLModel",
            "_view_count": null,
            "_view_module": "@jupyter-widgets/controls",
            "_view_module_version": "1.5.0",
            "_view_name": "HTMLView",
            "description": "",
            "description_tooltip": null,
            "layout": "IPY_MODEL_9294edd8fc9b4ab990dc386d8758c40d",
            "placeholder": "​",
            "style": "IPY_MODEL_9b34a286dd894528973e9069ea54e79b",
            "value": " 665/665 [00:00&lt;00:00, 9.13kB/s]"
          }
        },
        "6f23eab79ee54e1d8b660458d165a553": {
          "model_module": "@jupyter-widgets/base",
          "model_name": "LayoutModel",
          "model_module_version": "1.2.0",
          "state": {
            "_model_module": "@jupyter-widgets/base",
            "_model_module_version": "1.2.0",
            "_model_name": "LayoutModel",
            "_view_count": null,
            "_view_module": "@jupyter-widgets/base",
            "_view_module_version": "1.2.0",
            "_view_name": "LayoutView",
            "align_content": null,
            "align_items": null,
            "align_self": null,
            "border": null,
            "bottom": null,
            "display": null,
            "flex": null,
            "flex_flow": null,
            "grid_area": null,
            "grid_auto_columns": null,
            "grid_auto_flow": null,
            "grid_auto_rows": null,
            "grid_column": null,
            "grid_gap": null,
            "grid_row": null,
            "grid_template_areas": null,
            "grid_template_columns": null,
            "grid_template_rows": null,
            "height": null,
            "justify_content": null,
            "justify_items": null,
            "left": null,
            "margin": null,
            "max_height": null,
            "max_width": null,
            "min_height": null,
            "min_width": null,
            "object_fit": null,
            "object_position": null,
            "order": null,
            "overflow": null,
            "overflow_x": null,
            "overflow_y": null,
            "padding": null,
            "right": null,
            "top": null,
            "visibility": null,
            "width": null
          }
        },
        "dd69dd46916d4418bc6d52d6783472b4": {
          "model_module": "@jupyter-widgets/base",
          "model_name": "LayoutModel",
          "model_module_version": "1.2.0",
          "state": {
            "_model_module": "@jupyter-widgets/base",
            "_model_module_version": "1.2.0",
            "_model_name": "LayoutModel",
            "_view_count": null,
            "_view_module": "@jupyter-widgets/base",
            "_view_module_version": "1.2.0",
            "_view_name": "LayoutView",
            "align_content": null,
            "align_items": null,
            "align_self": null,
            "border": null,
            "bottom": null,
            "display": null,
            "flex": null,
            "flex_flow": null,
            "grid_area": null,
            "grid_auto_columns": null,
            "grid_auto_flow": null,
            "grid_auto_rows": null,
            "grid_column": null,
            "grid_gap": null,
            "grid_row": null,
            "grid_template_areas": null,
            "grid_template_columns": null,
            "grid_template_rows": null,
            "height": null,
            "justify_content": null,
            "justify_items": null,
            "left": null,
            "margin": null,
            "max_height": null,
            "max_width": null,
            "min_height": null,
            "min_width": null,
            "object_fit": null,
            "object_position": null,
            "order": null,
            "overflow": null,
            "overflow_x": null,
            "overflow_y": null,
            "padding": null,
            "right": null,
            "top": null,
            "visibility": null,
            "width": null
          }
        },
        "aaa3fc14ac1944828c7851dba1e9844c": {
          "model_module": "@jupyter-widgets/controls",
          "model_name": "DescriptionStyleModel",
          "model_module_version": "1.5.0",
          "state": {
            "_model_module": "@jupyter-widgets/controls",
            "_model_module_version": "1.5.0",
            "_model_name": "DescriptionStyleModel",
            "_view_count": null,
            "_view_module": "@jupyter-widgets/base",
            "_view_module_version": "1.2.0",
            "_view_name": "StyleView",
            "description_width": ""
          }
        },
        "a33cb0ac3ee74f1cbbc6c18025c24548": {
          "model_module": "@jupyter-widgets/base",
          "model_name": "LayoutModel",
          "model_module_version": "1.2.0",
          "state": {
            "_model_module": "@jupyter-widgets/base",
            "_model_module_version": "1.2.0",
            "_model_name": "LayoutModel",
            "_view_count": null,
            "_view_module": "@jupyter-widgets/base",
            "_view_module_version": "1.2.0",
            "_view_name": "LayoutView",
            "align_content": null,
            "align_items": null,
            "align_self": null,
            "border": null,
            "bottom": null,
            "display": null,
            "flex": null,
            "flex_flow": null,
            "grid_area": null,
            "grid_auto_columns": null,
            "grid_auto_flow": null,
            "grid_auto_rows": null,
            "grid_column": null,
            "grid_gap": null,
            "grid_row": null,
            "grid_template_areas": null,
            "grid_template_columns": null,
            "grid_template_rows": null,
            "height": null,
            "justify_content": null,
            "justify_items": null,
            "left": null,
            "margin": null,
            "max_height": null,
            "max_width": null,
            "min_height": null,
            "min_width": null,
            "object_fit": null,
            "object_position": null,
            "order": null,
            "overflow": null,
            "overflow_x": null,
            "overflow_y": null,
            "padding": null,
            "right": null,
            "top": null,
            "visibility": null,
            "width": null
          }
        },
        "454c58d204ec4cf2be929d1bce8d04b9": {
          "model_module": "@jupyter-widgets/controls",
          "model_name": "ProgressStyleModel",
          "model_module_version": "1.5.0",
          "state": {
            "_model_module": "@jupyter-widgets/controls",
            "_model_module_version": "1.5.0",
            "_model_name": "ProgressStyleModel",
            "_view_count": null,
            "_view_module": "@jupyter-widgets/base",
            "_view_module_version": "1.2.0",
            "_view_name": "StyleView",
            "bar_color": null,
            "description_width": ""
          }
        },
        "9294edd8fc9b4ab990dc386d8758c40d": {
          "model_module": "@jupyter-widgets/base",
          "model_name": "LayoutModel",
          "model_module_version": "1.2.0",
          "state": {
            "_model_module": "@jupyter-widgets/base",
            "_model_module_version": "1.2.0",
            "_model_name": "LayoutModel",
            "_view_count": null,
            "_view_module": "@jupyter-widgets/base",
            "_view_module_version": "1.2.0",
            "_view_name": "LayoutView",
            "align_content": null,
            "align_items": null,
            "align_self": null,
            "border": null,
            "bottom": null,
            "display": null,
            "flex": null,
            "flex_flow": null,
            "grid_area": null,
            "grid_auto_columns": null,
            "grid_auto_flow": null,
            "grid_auto_rows": null,
            "grid_column": null,
            "grid_gap": null,
            "grid_row": null,
            "grid_template_areas": null,
            "grid_template_columns": null,
            "grid_template_rows": null,
            "height": null,
            "justify_content": null,
            "justify_items": null,
            "left": null,
            "margin": null,
            "max_height": null,
            "max_width": null,
            "min_height": null,
            "min_width": null,
            "object_fit": null,
            "object_position": null,
            "order": null,
            "overflow": null,
            "overflow_x": null,
            "overflow_y": null,
            "padding": null,
            "right": null,
            "top": null,
            "visibility": null,
            "width": null
          }
        },
        "9b34a286dd894528973e9069ea54e79b": {
          "model_module": "@jupyter-widgets/controls",
          "model_name": "DescriptionStyleModel",
          "model_module_version": "1.5.0",
          "state": {
            "_model_module": "@jupyter-widgets/controls",
            "_model_module_version": "1.5.0",
            "_model_name": "DescriptionStyleModel",
            "_view_count": null,
            "_view_module": "@jupyter-widgets/base",
            "_view_module_version": "1.2.0",
            "_view_name": "StyleView",
            "description_width": ""
          }
        },
        "6550f352072240ab91373f9af4505346": {
          "model_module": "@jupyter-widgets/controls",
          "model_name": "HBoxModel",
          "model_module_version": "1.5.0",
          "state": {
            "_dom_classes": [],
            "_model_module": "@jupyter-widgets/controls",
            "_model_module_version": "1.5.0",
            "_model_name": "HBoxModel",
            "_view_count": null,
            "_view_module": "@jupyter-widgets/controls",
            "_view_module_version": "1.5.0",
            "_view_name": "HBoxView",
            "box_style": "",
            "children": [
              "IPY_MODEL_df47fff8d496402db062286ad2ff8b9b",
              "IPY_MODEL_39379100f00c453a8ba2eda6f6fb9a2a",
              "IPY_MODEL_017374a3e3934fefb7723baefaf99c7f"
            ],
            "layout": "IPY_MODEL_87bd54fbb4f2416ab26e06a072bba7ad"
          }
        },
        "df47fff8d496402db062286ad2ff8b9b": {
          "model_module": "@jupyter-widgets/controls",
          "model_name": "HTMLModel",
          "model_module_version": "1.5.0",
          "state": {
            "_dom_classes": [],
            "_model_module": "@jupyter-widgets/controls",
            "_model_module_version": "1.5.0",
            "_model_name": "HTMLModel",
            "_view_count": null,
            "_view_module": "@jupyter-widgets/controls",
            "_view_module_version": "1.5.0",
            "_view_name": "HTMLView",
            "description": "",
            "description_tooltip": null,
            "layout": "IPY_MODEL_f9cbef89bdb44ebc9670d0228332c880",
            "placeholder": "​",
            "style": "IPY_MODEL_59154ce95d2e4fdda613f455866fb5a8",
            "value": "Downloading: 100%"
          }
        },
        "39379100f00c453a8ba2eda6f6fb9a2a": {
          "model_module": "@jupyter-widgets/controls",
          "model_name": "FloatProgressModel",
          "model_module_version": "1.5.0",
          "state": {
            "_dom_classes": [],
            "_model_module": "@jupyter-widgets/controls",
            "_model_module_version": "1.5.0",
            "_model_name": "FloatProgressModel",
            "_view_count": null,
            "_view_module": "@jupyter-widgets/controls",
            "_view_module_version": "1.5.0",
            "_view_name": "ProgressView",
            "bar_style": "success",
            "description": "",
            "description_tooltip": null,
            "layout": "IPY_MODEL_dac65fed02844e6abb41d0e686932801",
            "max": 548118077,
            "min": 0,
            "orientation": "horizontal",
            "style": "IPY_MODEL_7c7f62798ee3431bb1c28d4270531b52",
            "value": 548118077
          }
        },
        "017374a3e3934fefb7723baefaf99c7f": {
          "model_module": "@jupyter-widgets/controls",
          "model_name": "HTMLModel",
          "model_module_version": "1.5.0",
          "state": {
            "_dom_classes": [],
            "_model_module": "@jupyter-widgets/controls",
            "_model_module_version": "1.5.0",
            "_model_name": "HTMLModel",
            "_view_count": null,
            "_view_module": "@jupyter-widgets/controls",
            "_view_module_version": "1.5.0",
            "_view_name": "HTMLView",
            "description": "",
            "description_tooltip": null,
            "layout": "IPY_MODEL_0914b53e552043b2b37761c3501859a3",
            "placeholder": "​",
            "style": "IPY_MODEL_14e964c16cee44f6a8fbc50980b289fd",
            "value": " 548M/548M [00:07&lt;00:00, 78.9MB/s]"
          }
        },
        "87bd54fbb4f2416ab26e06a072bba7ad": {
          "model_module": "@jupyter-widgets/base",
          "model_name": "LayoutModel",
          "model_module_version": "1.2.0",
          "state": {
            "_model_module": "@jupyter-widgets/base",
            "_model_module_version": "1.2.0",
            "_model_name": "LayoutModel",
            "_view_count": null,
            "_view_module": "@jupyter-widgets/base",
            "_view_module_version": "1.2.0",
            "_view_name": "LayoutView",
            "align_content": null,
            "align_items": null,
            "align_self": null,
            "border": null,
            "bottom": null,
            "display": null,
            "flex": null,
            "flex_flow": null,
            "grid_area": null,
            "grid_auto_columns": null,
            "grid_auto_flow": null,
            "grid_auto_rows": null,
            "grid_column": null,
            "grid_gap": null,
            "grid_row": null,
            "grid_template_areas": null,
            "grid_template_columns": null,
            "grid_template_rows": null,
            "height": null,
            "justify_content": null,
            "justify_items": null,
            "left": null,
            "margin": null,
            "max_height": null,
            "max_width": null,
            "min_height": null,
            "min_width": null,
            "object_fit": null,
            "object_position": null,
            "order": null,
            "overflow": null,
            "overflow_x": null,
            "overflow_y": null,
            "padding": null,
            "right": null,
            "top": null,
            "visibility": null,
            "width": null
          }
        },
        "f9cbef89bdb44ebc9670d0228332c880": {
          "model_module": "@jupyter-widgets/base",
          "model_name": "LayoutModel",
          "model_module_version": "1.2.0",
          "state": {
            "_model_module": "@jupyter-widgets/base",
            "_model_module_version": "1.2.0",
            "_model_name": "LayoutModel",
            "_view_count": null,
            "_view_module": "@jupyter-widgets/base",
            "_view_module_version": "1.2.0",
            "_view_name": "LayoutView",
            "align_content": null,
            "align_items": null,
            "align_self": null,
            "border": null,
            "bottom": null,
            "display": null,
            "flex": null,
            "flex_flow": null,
            "grid_area": null,
            "grid_auto_columns": null,
            "grid_auto_flow": null,
            "grid_auto_rows": null,
            "grid_column": null,
            "grid_gap": null,
            "grid_row": null,
            "grid_template_areas": null,
            "grid_template_columns": null,
            "grid_template_rows": null,
            "height": null,
            "justify_content": null,
            "justify_items": null,
            "left": null,
            "margin": null,
            "max_height": null,
            "max_width": null,
            "min_height": null,
            "min_width": null,
            "object_fit": null,
            "object_position": null,
            "order": null,
            "overflow": null,
            "overflow_x": null,
            "overflow_y": null,
            "padding": null,
            "right": null,
            "top": null,
            "visibility": null,
            "width": null
          }
        },
        "59154ce95d2e4fdda613f455866fb5a8": {
          "model_module": "@jupyter-widgets/controls",
          "model_name": "DescriptionStyleModel",
          "model_module_version": "1.5.0",
          "state": {
            "_model_module": "@jupyter-widgets/controls",
            "_model_module_version": "1.5.0",
            "_model_name": "DescriptionStyleModel",
            "_view_count": null,
            "_view_module": "@jupyter-widgets/base",
            "_view_module_version": "1.2.0",
            "_view_name": "StyleView",
            "description_width": ""
          }
        },
        "dac65fed02844e6abb41d0e686932801": {
          "model_module": "@jupyter-widgets/base",
          "model_name": "LayoutModel",
          "model_module_version": "1.2.0",
          "state": {
            "_model_module": "@jupyter-widgets/base",
            "_model_module_version": "1.2.0",
            "_model_name": "LayoutModel",
            "_view_count": null,
            "_view_module": "@jupyter-widgets/base",
            "_view_module_version": "1.2.0",
            "_view_name": "LayoutView",
            "align_content": null,
            "align_items": null,
            "align_self": null,
            "border": null,
            "bottom": null,
            "display": null,
            "flex": null,
            "flex_flow": null,
            "grid_area": null,
            "grid_auto_columns": null,
            "grid_auto_flow": null,
            "grid_auto_rows": null,
            "grid_column": null,
            "grid_gap": null,
            "grid_row": null,
            "grid_template_areas": null,
            "grid_template_columns": null,
            "grid_template_rows": null,
            "height": null,
            "justify_content": null,
            "justify_items": null,
            "left": null,
            "margin": null,
            "max_height": null,
            "max_width": null,
            "min_height": null,
            "min_width": null,
            "object_fit": null,
            "object_position": null,
            "order": null,
            "overflow": null,
            "overflow_x": null,
            "overflow_y": null,
            "padding": null,
            "right": null,
            "top": null,
            "visibility": null,
            "width": null
          }
        },
        "7c7f62798ee3431bb1c28d4270531b52": {
          "model_module": "@jupyter-widgets/controls",
          "model_name": "ProgressStyleModel",
          "model_module_version": "1.5.0",
          "state": {
            "_model_module": "@jupyter-widgets/controls",
            "_model_module_version": "1.5.0",
            "_model_name": "ProgressStyleModel",
            "_view_count": null,
            "_view_module": "@jupyter-widgets/base",
            "_view_module_version": "1.2.0",
            "_view_name": "StyleView",
            "bar_color": null,
            "description_width": ""
          }
        },
        "0914b53e552043b2b37761c3501859a3": {
          "model_module": "@jupyter-widgets/base",
          "model_name": "LayoutModel",
          "model_module_version": "1.2.0",
          "state": {
            "_model_module": "@jupyter-widgets/base",
            "_model_module_version": "1.2.0",
            "_model_name": "LayoutModel",
            "_view_count": null,
            "_view_module": "@jupyter-widgets/base",
            "_view_module_version": "1.2.0",
            "_view_name": "LayoutView",
            "align_content": null,
            "align_items": null,
            "align_self": null,
            "border": null,
            "bottom": null,
            "display": null,
            "flex": null,
            "flex_flow": null,
            "grid_area": null,
            "grid_auto_columns": null,
            "grid_auto_flow": null,
            "grid_auto_rows": null,
            "grid_column": null,
            "grid_gap": null,
            "grid_row": null,
            "grid_template_areas": null,
            "grid_template_columns": null,
            "grid_template_rows": null,
            "height": null,
            "justify_content": null,
            "justify_items": null,
            "left": null,
            "margin": null,
            "max_height": null,
            "max_width": null,
            "min_height": null,
            "min_width": null,
            "object_fit": null,
            "object_position": null,
            "order": null,
            "overflow": null,
            "overflow_x": null,
            "overflow_y": null,
            "padding": null,
            "right": null,
            "top": null,
            "visibility": null,
            "width": null
          }
        },
        "14e964c16cee44f6a8fbc50980b289fd": {
          "model_module": "@jupyter-widgets/controls",
          "model_name": "DescriptionStyleModel",
          "model_module_version": "1.5.0",
          "state": {
            "_model_module": "@jupyter-widgets/controls",
            "_model_module_version": "1.5.0",
            "_model_name": "DescriptionStyleModel",
            "_view_count": null,
            "_view_module": "@jupyter-widgets/base",
            "_view_module_version": "1.2.0",
            "_view_name": "StyleView",
            "description_width": ""
          }
        }
      }
    }
  },
  "cells": [
    {
      "cell_type": "markdown",
      "source": [
        "# SOCIAL BIAS INDICATOR\n",
        "\n",
        "#### Pooja Kangokar Pranesh\n",
        "#### DS 690: Introduction to Natural Language Processing"
      ],
      "metadata": {
        "id": "BT-UVz0tGEFD"
      }
    },
    {
      "cell_type": "markdown",
      "source": [
        "## Imports"
      ],
      "metadata": {
        "id": "sc1J1vMKX5mF"
      }
    },
    {
      "cell_type": "code",
      "source": [
        "!pip install -qq pyLDAvis"
      ],
      "metadata": {
        "id": "GcJHPBK-YuH_",
        "colab": {
          "base_uri": "https://localhost:8080/"
        },
        "outputId": "45e6b0fe-b593-4822-ef80-93380bd21980"
      },
      "execution_count": null,
      "outputs": [
        {
          "output_type": "stream",
          "name": "stdout",
          "text": [
            "\u001b[?25l\r\u001b[K     |▏                               | 10 kB 33.6 MB/s eta 0:00:01\r\u001b[K     |▍                               | 20 kB 36.9 MB/s eta 0:00:01\r\u001b[K     |▋                               | 30 kB 42.5 MB/s eta 0:00:01\r\u001b[K     |▉                               | 40 kB 20.1 MB/s eta 0:00:01\r\u001b[K     |█                               | 51 kB 22.8 MB/s eta 0:00:01\r\u001b[K     |█▏                              | 61 kB 26.0 MB/s eta 0:00:01\r\u001b[K     |█▍                              | 71 kB 18.4 MB/s eta 0:00:01\r\u001b[K     |█▋                              | 81 kB 19.6 MB/s eta 0:00:01\r\u001b[K     |█▉                              | 92 kB 21.3 MB/s eta 0:00:01\r\u001b[K     |██                              | 102 kB 20.3 MB/s eta 0:00:01\r\u001b[K     |██▏                             | 112 kB 20.3 MB/s eta 0:00:01\r\u001b[K     |██▍                             | 122 kB 20.3 MB/s eta 0:00:01\r\u001b[K     |██▋                             | 133 kB 20.3 MB/s eta 0:00:01\r\u001b[K     |██▊                             | 143 kB 20.3 MB/s eta 0:00:01\r\u001b[K     |███                             | 153 kB 20.3 MB/s eta 0:00:01\r\u001b[K     |███▏                            | 163 kB 20.3 MB/s eta 0:00:01\r\u001b[K     |███▍                            | 174 kB 20.3 MB/s eta 0:00:01\r\u001b[K     |███▋                            | 184 kB 20.3 MB/s eta 0:00:01\r\u001b[K     |███▊                            | 194 kB 20.3 MB/s eta 0:00:01\r\u001b[K     |████                            | 204 kB 20.3 MB/s eta 0:00:01\r\u001b[K     |████▏                           | 215 kB 20.3 MB/s eta 0:00:01\r\u001b[K     |████▍                           | 225 kB 20.3 MB/s eta 0:00:01\r\u001b[K     |████▋                           | 235 kB 20.3 MB/s eta 0:00:01\r\u001b[K     |████▊                           | 245 kB 20.3 MB/s eta 0:00:01\r\u001b[K     |█████                           | 256 kB 20.3 MB/s eta 0:00:01\r\u001b[K     |█████▏                          | 266 kB 20.3 MB/s eta 0:00:01\r\u001b[K     |█████▍                          | 276 kB 20.3 MB/s eta 0:00:01\r\u001b[K     |█████▌                          | 286 kB 20.3 MB/s eta 0:00:01\r\u001b[K     |█████▊                          | 296 kB 20.3 MB/s eta 0:00:01\r\u001b[K     |██████                          | 307 kB 20.3 MB/s eta 0:00:01\r\u001b[K     |██████▏                         | 317 kB 20.3 MB/s eta 0:00:01\r\u001b[K     |██████▍                         | 327 kB 20.3 MB/s eta 0:00:01\r\u001b[K     |██████▌                         | 337 kB 20.3 MB/s eta 0:00:01\r\u001b[K     |██████▊                         | 348 kB 20.3 MB/s eta 0:00:01\r\u001b[K     |███████                         | 358 kB 20.3 MB/s eta 0:00:01\r\u001b[K     |███████▏                        | 368 kB 20.3 MB/s eta 0:00:01\r\u001b[K     |███████▎                        | 378 kB 20.3 MB/s eta 0:00:01\r\u001b[K     |███████▌                        | 389 kB 20.3 MB/s eta 0:00:01\r\u001b[K     |███████▊                        | 399 kB 20.3 MB/s eta 0:00:01\r\u001b[K     |████████                        | 409 kB 20.3 MB/s eta 0:00:01\r\u001b[K     |████████▏                       | 419 kB 20.3 MB/s eta 0:00:01\r\u001b[K     |████████▎                       | 430 kB 20.3 MB/s eta 0:00:01\r\u001b[K     |████████▌                       | 440 kB 20.3 MB/s eta 0:00:01\r\u001b[K     |████████▊                       | 450 kB 20.3 MB/s eta 0:00:01\r\u001b[K     |█████████                       | 460 kB 20.3 MB/s eta 0:00:01\r\u001b[K     |█████████▏                      | 471 kB 20.3 MB/s eta 0:00:01\r\u001b[K     |█████████▎                      | 481 kB 20.3 MB/s eta 0:00:01\r\u001b[K     |█████████▌                      | 491 kB 20.3 MB/s eta 0:00:01\r\u001b[K     |█████████▊                      | 501 kB 20.3 MB/s eta 0:00:01\r\u001b[K     |██████████                      | 512 kB 20.3 MB/s eta 0:00:01\r\u001b[K     |██████████                      | 522 kB 20.3 MB/s eta 0:00:01\r\u001b[K     |██████████▎                     | 532 kB 20.3 MB/s eta 0:00:01\r\u001b[K     |██████████▌                     | 542 kB 20.3 MB/s eta 0:00:01\r\u001b[K     |██████████▊                     | 552 kB 20.3 MB/s eta 0:00:01\r\u001b[K     |███████████                     | 563 kB 20.3 MB/s eta 0:00:01\r\u001b[K     |███████████                     | 573 kB 20.3 MB/s eta 0:00:01\r\u001b[K     |███████████▎                    | 583 kB 20.3 MB/s eta 0:00:01\r\u001b[K     |███████████▌                    | 593 kB 20.3 MB/s eta 0:00:01\r\u001b[K     |███████████▊                    | 604 kB 20.3 MB/s eta 0:00:01\r\u001b[K     |███████████▉                    | 614 kB 20.3 MB/s eta 0:00:01\r\u001b[K     |████████████                    | 624 kB 20.3 MB/s eta 0:00:01\r\u001b[K     |████████████▎                   | 634 kB 20.3 MB/s eta 0:00:01\r\u001b[K     |████████████▌                   | 645 kB 20.3 MB/s eta 0:00:01\r\u001b[K     |████████████▊                   | 655 kB 20.3 MB/s eta 0:00:01\r\u001b[K     |████████████▉                   | 665 kB 20.3 MB/s eta 0:00:01\r\u001b[K     |█████████████                   | 675 kB 20.3 MB/s eta 0:00:01\r\u001b[K     |█████████████▎                  | 686 kB 20.3 MB/s eta 0:00:01\r\u001b[K     |█████████████▌                  | 696 kB 20.3 MB/s eta 0:00:01\r\u001b[K     |█████████████▊                  | 706 kB 20.3 MB/s eta 0:00:01\r\u001b[K     |█████████████▉                  | 716 kB 20.3 MB/s eta 0:00:01\r\u001b[K     |██████████████                  | 727 kB 20.3 MB/s eta 0:00:01\r\u001b[K     |██████████████▎                 | 737 kB 20.3 MB/s eta 0:00:01\r\u001b[K     |██████████████▌                 | 747 kB 20.3 MB/s eta 0:00:01\r\u001b[K     |██████████████▋                 | 757 kB 20.3 MB/s eta 0:00:01\r\u001b[K     |██████████████▉                 | 768 kB 20.3 MB/s eta 0:00:01\r\u001b[K     |███████████████                 | 778 kB 20.3 MB/s eta 0:00:01\r\u001b[K     |███████████████▎                | 788 kB 20.3 MB/s eta 0:00:01\r\u001b[K     |███████████████▌                | 798 kB 20.3 MB/s eta 0:00:01\r\u001b[K     |███████████████▋                | 808 kB 20.3 MB/s eta 0:00:01\r\u001b[K     |███████████████▉                | 819 kB 20.3 MB/s eta 0:00:01\r\u001b[K     |████████████████                | 829 kB 20.3 MB/s eta 0:00:01\r\u001b[K     |████████████████▎               | 839 kB 20.3 MB/s eta 0:00:01\r\u001b[K     |████████████████▍               | 849 kB 20.3 MB/s eta 0:00:01\r\u001b[K     |████████████████▋               | 860 kB 20.3 MB/s eta 0:00:01\r\u001b[K     |████████████████▉               | 870 kB 20.3 MB/s eta 0:00:01\r\u001b[K     |█████████████████               | 880 kB 20.3 MB/s eta 0:00:01\r\u001b[K     |█████████████████▎              | 890 kB 20.3 MB/s eta 0:00:01\r\u001b[K     |█████████████████▍              | 901 kB 20.3 MB/s eta 0:00:01\r\u001b[K     |█████████████████▋              | 911 kB 20.3 MB/s eta 0:00:01\r\u001b[K     |█████████████████▉              | 921 kB 20.3 MB/s eta 0:00:01\r\u001b[K     |██████████████████              | 931 kB 20.3 MB/s eta 0:00:01\r\u001b[K     |██████████████████▎             | 942 kB 20.3 MB/s eta 0:00:01\r\u001b[K     |██████████████████▍             | 952 kB 20.3 MB/s eta 0:00:01\r\u001b[K     |██████████████████▋             | 962 kB 20.3 MB/s eta 0:00:01\r\u001b[K     |██████████████████▉             | 972 kB 20.3 MB/s eta 0:00:01\r\u001b[K     |███████████████████             | 983 kB 20.3 MB/s eta 0:00:01\r\u001b[K     |███████████████████▏            | 993 kB 20.3 MB/s eta 0:00:01\r\u001b[K     |███████████████████▍            | 1.0 MB 20.3 MB/s eta 0:00:01\r\u001b[K     |███████████████████▋            | 1.0 MB 20.3 MB/s eta 0:00:01\r\u001b[K     |███████████████████▉            | 1.0 MB 20.3 MB/s eta 0:00:01\r\u001b[K     |████████████████████            | 1.0 MB 20.3 MB/s eta 0:00:01\r\u001b[K     |████████████████████▏           | 1.0 MB 20.3 MB/s eta 0:00:01\r\u001b[K     |████████████████████▍           | 1.1 MB 20.3 MB/s eta 0:00:01\r\u001b[K     |████████████████████▋           | 1.1 MB 20.3 MB/s eta 0:00:01\r\u001b[K     |████████████████████▉           | 1.1 MB 20.3 MB/s eta 0:00:01\r\u001b[K     |█████████████████████           | 1.1 MB 20.3 MB/s eta 0:00:01\r\u001b[K     |█████████████████████▏          | 1.1 MB 20.3 MB/s eta 0:00:01\r\u001b[K     |█████████████████████▍          | 1.1 MB 20.3 MB/s eta 0:00:01\r\u001b[K     |█████████████████████▋          | 1.1 MB 20.3 MB/s eta 0:00:01\r\u001b[K     |█████████████████████▉          | 1.1 MB 20.3 MB/s eta 0:00:01\r\u001b[K     |██████████████████████          | 1.1 MB 20.3 MB/s eta 0:00:01\r\u001b[K     |██████████████████████▏         | 1.1 MB 20.3 MB/s eta 0:00:01\r\u001b[K     |██████████████████████▍         | 1.2 MB 20.3 MB/s eta 0:00:01\r\u001b[K     |██████████████████████▋         | 1.2 MB 20.3 MB/s eta 0:00:01\r\u001b[K     |██████████████████████▉         | 1.2 MB 20.3 MB/s eta 0:00:01\r\u001b[K     |███████████████████████         | 1.2 MB 20.3 MB/s eta 0:00:01\r\u001b[K     |███████████████████████▏        | 1.2 MB 20.3 MB/s eta 0:00:01\r\u001b[K     |███████████████████████▍        | 1.2 MB 20.3 MB/s eta 0:00:01\r\u001b[K     |███████████████████████▋        | 1.2 MB 20.3 MB/s eta 0:00:01\r\u001b[K     |███████████████████████▊        | 1.2 MB 20.3 MB/s eta 0:00:01\r\u001b[K     |████████████████████████        | 1.2 MB 20.3 MB/s eta 0:00:01\r\u001b[K     |████████████████████████▏       | 1.2 MB 20.3 MB/s eta 0:00:01\r\u001b[K     |████████████████████████▍       | 1.3 MB 20.3 MB/s eta 0:00:01\r\u001b[K     |████████████████████████▋       | 1.3 MB 20.3 MB/s eta 0:00:01\r\u001b[K     |████████████████████████▊       | 1.3 MB 20.3 MB/s eta 0:00:01\r\u001b[K     |█████████████████████████       | 1.3 MB 20.3 MB/s eta 0:00:01\r\u001b[K     |█████████████████████████▏      | 1.3 MB 20.3 MB/s eta 0:00:01\r\u001b[K     |█████████████████████████▍      | 1.3 MB 20.3 MB/s eta 0:00:01\r\u001b[K     |█████████████████████████▌      | 1.3 MB 20.3 MB/s eta 0:00:01\r\u001b[K     |█████████████████████████▊      | 1.3 MB 20.3 MB/s eta 0:00:01\r\u001b[K     |██████████████████████████      | 1.3 MB 20.3 MB/s eta 0:00:01\r\u001b[K     |██████████████████████████▏     | 1.4 MB 20.3 MB/s eta 0:00:01\r\u001b[K     |██████████████████████████▍     | 1.4 MB 20.3 MB/s eta 0:00:01\r\u001b[K     |██████████████████████████▌     | 1.4 MB 20.3 MB/s eta 0:00:01\r\u001b[K     |██████████████████████████▊     | 1.4 MB 20.3 MB/s eta 0:00:01\r\u001b[K     |███████████████████████████     | 1.4 MB 20.3 MB/s eta 0:00:01\r\u001b[K     |███████████████████████████▏    | 1.4 MB 20.3 MB/s eta 0:00:01\r\u001b[K     |███████████████████████████▍    | 1.4 MB 20.3 MB/s eta 0:00:01\r\u001b[K     |███████████████████████████▌    | 1.4 MB 20.3 MB/s eta 0:00:01\r\u001b[K     |███████████████████████████▊    | 1.4 MB 20.3 MB/s eta 0:00:01\r\u001b[K     |████████████████████████████    | 1.4 MB 20.3 MB/s eta 0:00:01\r\u001b[K     |████████████████████████████▏   | 1.5 MB 20.3 MB/s eta 0:00:01\r\u001b[K     |████████████████████████████▎   | 1.5 MB 20.3 MB/s eta 0:00:01\r\u001b[K     |████████████████████████████▌   | 1.5 MB 20.3 MB/s eta 0:00:01\r\u001b[K     |████████████████████████████▊   | 1.5 MB 20.3 MB/s eta 0:00:01\r\u001b[K     |█████████████████████████████   | 1.5 MB 20.3 MB/s eta 0:00:01\r\u001b[K     |█████████████████████████████▏  | 1.5 MB 20.3 MB/s eta 0:00:01\r\u001b[K     |█████████████████████████████▎  | 1.5 MB 20.3 MB/s eta 0:00:01\r\u001b[K     |█████████████████████████████▌  | 1.5 MB 20.3 MB/s eta 0:00:01\r\u001b[K     |█████████████████████████████▊  | 1.5 MB 20.3 MB/s eta 0:00:01\r\u001b[K     |██████████████████████████████  | 1.5 MB 20.3 MB/s eta 0:00:01\r\u001b[K     |██████████████████████████████▏ | 1.6 MB 20.3 MB/s eta 0:00:01\r\u001b[K     |██████████████████████████████▎ | 1.6 MB 20.3 MB/s eta 0:00:01\r\u001b[K     |██████████████████████████████▌ | 1.6 MB 20.3 MB/s eta 0:00:01\r\u001b[K     |██████████████████████████████▊ | 1.6 MB 20.3 MB/s eta 0:00:01\r\u001b[K     |███████████████████████████████ | 1.6 MB 20.3 MB/s eta 0:00:01\r\u001b[K     |███████████████████████████████ | 1.6 MB 20.3 MB/s eta 0:00:01\r\u001b[K     |███████████████████████████████▎| 1.6 MB 20.3 MB/s eta 0:00:01\r\u001b[K     |███████████████████████████████▌| 1.6 MB 20.3 MB/s eta 0:00:01\r\u001b[K     |███████████████████████████████▊| 1.6 MB 20.3 MB/s eta 0:00:01\r\u001b[K     |████████████████████████████████| 1.6 MB 20.3 MB/s eta 0:00:01\r\u001b[K     |████████████████████████████████| 1.7 MB 20.3 MB/s \n",
            "\u001b[?25h  Installing build dependencies ... \u001b[?25l\u001b[?25hdone\n",
            "  Getting requirements to build wheel ... \u001b[?25l\u001b[?25hdone\n",
            "  Installing backend dependencies ... \u001b[?25l\u001b[?25hdone\n",
            "    Preparing wheel metadata ... \u001b[?25l\u001b[?25hdone\n",
            "  Building wheel for pyLDAvis (PEP 517) ... \u001b[?25l\u001b[?25hdone\n",
            "  Building wheel for sklearn (setup.py) ... \u001b[?25l\u001b[?25hdone\n"
          ]
        }
      ]
    },
    {
      "cell_type": "code",
      "source": [
        "from google.colab import drive\n",
        "drive.mount('/content/gdrive')\n",
        "\n",
        "import pandas as pd\n",
        "import numpy as np\n",
        "import nltk\n",
        "import pickle\n",
        "import pyLDAvis.sklearn\n",
        "from collections import Counter\n",
        "from textblob import TextBlob\n",
        "from nltk.tokenize import word_tokenize\n",
        "from nltk.probability import FreqDist\n",
        "from sklearn.feature_extraction.text import CountVectorizer\n",
        "from sklearn.feature_extraction.text import TfidfVectorizer\n",
        "from sklearn.decomposition import LatentDirichletAllocation, NMF\n",
        "from wordcloud import WordCloud, ImageColorGenerator\n",
        "import matplotlib.pyplot as plt\n",
        "import seaborn as sns\n",
        "import re\n",
        "from spacy.lang.en.stop_words import STOP_WORDS\n",
        "from nltk.stem.porter import PorterStemmer\n",
        "from nltk.tokenize import word_tokenize\n",
        "porter = PorterStemmer()\n",
        "import string\n",
        "\n",
        "from textblob import TextBlob\n",
        "from os import path\n",
        "import nltk\n",
        "nltk.download('punkt')\n",
        "import pandas as pd\n",
        "\n",
        "import warnings\n",
        "warnings.filterwarnings(\"ignore\")\n",
        "from gensim.models import Word2Vec\n",
        "from sklearn.manifold import TSNE\n",
        "import matplotlib.pyplot as plt"
      ],
      "metadata": {
        "id": "1X84GJ1Ipj1M",
        "outputId": "2f77759f-e687-416e-ecdd-fe3c20eb3f4b",
        "colab": {
          "base_uri": "https://localhost:8080/"
        }
      },
      "execution_count": null,
      "outputs": [
        {
          "output_type": "stream",
          "name": "stdout",
          "text": [
            "Mounted at /content/gdrive\n"
          ]
        },
        {
          "output_type": "stream",
          "name": "stderr",
          "text": [
            "/usr/local/lib/python3.8/dist-packages/past/types/oldstr.py:5: DeprecationWarning: Using or importing the ABCs from 'collections' instead of from 'collections.abc' is deprecated since Python 3.3, and in 3.10 it will stop working\n",
            "  from collections import Iterable\n",
            "/usr/local/lib/python3.8/dist-packages/past/builtins/misc.py:4: DeprecationWarning: Using or importing the ABCs from 'collections' instead of from 'collections.abc' is deprecated since Python 3.3, and in 3.10 it will stop working\n",
            "  from collections import Mapping\n",
            "[nltk_data] Downloading package punkt to /root/nltk_data...\n",
            "[nltk_data]   Unzipping tokenizers/punkt.zip.\n"
          ]
        }
      ]
    },
    {
      "cell_type": "markdown",
      "source": [
        "#### Data Read"
      ],
      "metadata": {
        "id": "UcSPoQiQ6TCi"
      }
    },
    {
      "cell_type": "code",
      "source": [
        "df = pd.read_csv(\"gdrive/My Drive/Colab Notebooks/SBIC.v2.agg.trn.csv\")\n",
        "df.head()"
      ],
      "metadata": {
        "colab": {
          "base_uri": "https://localhost:8080/",
          "height": 372
        },
        "id": "j9MaJ3U4YKiA",
        "outputId": "f0a6a201-b75d-43f6-df4b-4ce6bcbe6d3b"
      },
      "execution_count": null,
      "outputs": [
        {
          "output_type": "execute_result",
          "data": {
            "text/plain": [
              "   Unnamed: 0                                               post  \\\n",
              "0           0  \\n\\nBill Kristol and Ben Shaprio, two turds in...   \n",
              "1           1  \\n\\nRose\\n🌹Taylor‏ @RealRoseTaylor 6h6 hours a...   \n",
              "2           2  \\nCharlie Kirk‏\\n\\nJohnny Depp calls for death...   \n",
              "3           3  \\nDavid Knight‏ \\n\\nNotice how quickly things ...   \n",
              "4           4  \\nFinland fireball: Time-lapse video shows nig...   \n",
              "\n",
              "  targetMinority targetCategory  \\\n",
              "0             []             []   \n",
              "1             []             []   \n",
              "2   [\"liberals\"]     [\"social\"]   \n",
              "3             []             []   \n",
              "4             []             []   \n",
              "\n",
              "                                    targetStereotype  whoTarget  intentYN  \\\n",
              "0                                                 []        0.0  0.886667   \n",
              "1                                                 []        NaN  0.220000   \n",
              "2  [\"miscontrue things\", \"take things in a weird ...        1.0  1.000000   \n",
              "3                                                 []        0.0  0.110000   \n",
              "4                                                 []        NaN  0.000000   \n",
              "\n",
              "   sexYN  offensiveYN dataSource  hasBiasedImplication  \n",
              "0    0.0     1.000000        Gab                     1  \n",
              "1    0.0     0.000000        Gab                     1  \n",
              "2    0.0     1.000000        Gab                     0  \n",
              "3    0.0     0.166667        Gab                     1  \n",
              "4    0.0     0.000000        Gab                     1  "
            ],
            "text/html": [
              "\n",
              "  <div id=\"df-6c5562f8-88eb-484e-ab4e-aa2513ebcadb\">\n",
              "    <div class=\"colab-df-container\">\n",
              "      <div>\n",
              "<style scoped>\n",
              "    .dataframe tbody tr th:only-of-type {\n",
              "        vertical-align: middle;\n",
              "    }\n",
              "\n",
              "    .dataframe tbody tr th {\n",
              "        vertical-align: top;\n",
              "    }\n",
              "\n",
              "    .dataframe thead th {\n",
              "        text-align: right;\n",
              "    }\n",
              "</style>\n",
              "<table border=\"1\" class=\"dataframe\">\n",
              "  <thead>\n",
              "    <tr style=\"text-align: right;\">\n",
              "      <th></th>\n",
              "      <th>Unnamed: 0</th>\n",
              "      <th>post</th>\n",
              "      <th>targetMinority</th>\n",
              "      <th>targetCategory</th>\n",
              "      <th>targetStereotype</th>\n",
              "      <th>whoTarget</th>\n",
              "      <th>intentYN</th>\n",
              "      <th>sexYN</th>\n",
              "      <th>offensiveYN</th>\n",
              "      <th>dataSource</th>\n",
              "      <th>hasBiasedImplication</th>\n",
              "    </tr>\n",
              "  </thead>\n",
              "  <tbody>\n",
              "    <tr>\n",
              "      <th>0</th>\n",
              "      <td>0</td>\n",
              "      <td>\\n\\nBill Kristol and Ben Shaprio, two turds in...</td>\n",
              "      <td>[]</td>\n",
              "      <td>[]</td>\n",
              "      <td>[]</td>\n",
              "      <td>0.0</td>\n",
              "      <td>0.886667</td>\n",
              "      <td>0.0</td>\n",
              "      <td>1.000000</td>\n",
              "      <td>Gab</td>\n",
              "      <td>1</td>\n",
              "    </tr>\n",
              "    <tr>\n",
              "      <th>1</th>\n",
              "      <td>1</td>\n",
              "      <td>\\n\\nRose\\n🌹Taylor‏ @RealRoseTaylor 6h6 hours a...</td>\n",
              "      <td>[]</td>\n",
              "      <td>[]</td>\n",
              "      <td>[]</td>\n",
              "      <td>NaN</td>\n",
              "      <td>0.220000</td>\n",
              "      <td>0.0</td>\n",
              "      <td>0.000000</td>\n",
              "      <td>Gab</td>\n",
              "      <td>1</td>\n",
              "    </tr>\n",
              "    <tr>\n",
              "      <th>2</th>\n",
              "      <td>2</td>\n",
              "      <td>\\nCharlie Kirk‏\\n\\nJohnny Depp calls for death...</td>\n",
              "      <td>[\"liberals\"]</td>\n",
              "      <td>[\"social\"]</td>\n",
              "      <td>[\"miscontrue things\", \"take things in a weird ...</td>\n",
              "      <td>1.0</td>\n",
              "      <td>1.000000</td>\n",
              "      <td>0.0</td>\n",
              "      <td>1.000000</td>\n",
              "      <td>Gab</td>\n",
              "      <td>0</td>\n",
              "    </tr>\n",
              "    <tr>\n",
              "      <th>3</th>\n",
              "      <td>3</td>\n",
              "      <td>\\nDavid Knight‏ \\n\\nNotice how quickly things ...</td>\n",
              "      <td>[]</td>\n",
              "      <td>[]</td>\n",
              "      <td>[]</td>\n",
              "      <td>0.0</td>\n",
              "      <td>0.110000</td>\n",
              "      <td>0.0</td>\n",
              "      <td>0.166667</td>\n",
              "      <td>Gab</td>\n",
              "      <td>1</td>\n",
              "    </tr>\n",
              "    <tr>\n",
              "      <th>4</th>\n",
              "      <td>4</td>\n",
              "      <td>\\nFinland fireball: Time-lapse video shows nig...</td>\n",
              "      <td>[]</td>\n",
              "      <td>[]</td>\n",
              "      <td>[]</td>\n",
              "      <td>NaN</td>\n",
              "      <td>0.000000</td>\n",
              "      <td>0.0</td>\n",
              "      <td>0.000000</td>\n",
              "      <td>Gab</td>\n",
              "      <td>1</td>\n",
              "    </tr>\n",
              "  </tbody>\n",
              "</table>\n",
              "</div>\n",
              "      <button class=\"colab-df-convert\" onclick=\"convertToInteractive('df-6c5562f8-88eb-484e-ab4e-aa2513ebcadb')\"\n",
              "              title=\"Convert this dataframe to an interactive table.\"\n",
              "              style=\"display:none;\">\n",
              "        \n",
              "  <svg xmlns=\"http://www.w3.org/2000/svg\" height=\"24px\"viewBox=\"0 0 24 24\"\n",
              "       width=\"24px\">\n",
              "    <path d=\"M0 0h24v24H0V0z\" fill=\"none\"/>\n",
              "    <path d=\"M18.56 5.44l.94 2.06.94-2.06 2.06-.94-2.06-.94-.94-2.06-.94 2.06-2.06.94zm-11 1L8.5 8.5l.94-2.06 2.06-.94-2.06-.94L8.5 2.5l-.94 2.06-2.06.94zm10 10l.94 2.06.94-2.06 2.06-.94-2.06-.94-.94-2.06-.94 2.06-2.06.94z\"/><path d=\"M17.41 7.96l-1.37-1.37c-.4-.4-.92-.59-1.43-.59-.52 0-1.04.2-1.43.59L10.3 9.45l-7.72 7.72c-.78.78-.78 2.05 0 2.83L4 21.41c.39.39.9.59 1.41.59.51 0 1.02-.2 1.41-.59l7.78-7.78 2.81-2.81c.8-.78.8-2.07 0-2.86zM5.41 20L4 18.59l7.72-7.72 1.47 1.35L5.41 20z\"/>\n",
              "  </svg>\n",
              "      </button>\n",
              "      \n",
              "  <style>\n",
              "    .colab-df-container {\n",
              "      display:flex;\n",
              "      flex-wrap:wrap;\n",
              "      gap: 12px;\n",
              "    }\n",
              "\n",
              "    .colab-df-convert {\n",
              "      background-color: #E8F0FE;\n",
              "      border: none;\n",
              "      border-radius: 50%;\n",
              "      cursor: pointer;\n",
              "      display: none;\n",
              "      fill: #1967D2;\n",
              "      height: 32px;\n",
              "      padding: 0 0 0 0;\n",
              "      width: 32px;\n",
              "    }\n",
              "\n",
              "    .colab-df-convert:hover {\n",
              "      background-color: #E2EBFA;\n",
              "      box-shadow: 0px 1px 2px rgba(60, 64, 67, 0.3), 0px 1px 3px 1px rgba(60, 64, 67, 0.15);\n",
              "      fill: #174EA6;\n",
              "    }\n",
              "\n",
              "    [theme=dark] .colab-df-convert {\n",
              "      background-color: #3B4455;\n",
              "      fill: #D2E3FC;\n",
              "    }\n",
              "\n",
              "    [theme=dark] .colab-df-convert:hover {\n",
              "      background-color: #434B5C;\n",
              "      box-shadow: 0px 1px 3px 1px rgba(0, 0, 0, 0.15);\n",
              "      filter: drop-shadow(0px 1px 2px rgba(0, 0, 0, 0.3));\n",
              "      fill: #FFFFFF;\n",
              "    }\n",
              "  </style>\n",
              "\n",
              "      <script>\n",
              "        const buttonEl =\n",
              "          document.querySelector('#df-6c5562f8-88eb-484e-ab4e-aa2513ebcadb button.colab-df-convert');\n",
              "        buttonEl.style.display =\n",
              "          google.colab.kernel.accessAllowed ? 'block' : 'none';\n",
              "\n",
              "        async function convertToInteractive(key) {\n",
              "          const element = document.querySelector('#df-6c5562f8-88eb-484e-ab4e-aa2513ebcadb');\n",
              "          const dataTable =\n",
              "            await google.colab.kernel.invokeFunction('convertToInteractive',\n",
              "                                                     [key], {});\n",
              "          if (!dataTable) return;\n",
              "\n",
              "          const docLinkHtml = 'Like what you see? Visit the ' +\n",
              "            '<a target=\"_blank\" href=https://colab.research.google.com/notebooks/data_table.ipynb>data table notebook</a>'\n",
              "            + ' to learn more about interactive tables.';\n",
              "          element.innerHTML = '';\n",
              "          dataTable['output_type'] = 'display_data';\n",
              "          await google.colab.output.renderOutput(dataTable, element);\n",
              "          const docLink = document.createElement('div');\n",
              "          docLink.innerHTML = docLinkHtml;\n",
              "          element.appendChild(docLink);\n",
              "        }\n",
              "      </script>\n",
              "    </div>\n",
              "  </div>\n",
              "  "
            ]
          },
          "metadata": {},
          "execution_count": 3
        }
      ]
    },
    {
      "cell_type": "markdown",
      "source": [
        "## Pre-Processing"
      ],
      "metadata": {
        "id": "Q9TqhXDEZYXp"
      }
    },
    {
      "cell_type": "markdown",
      "source": [
        "#### Check for null values"
      ],
      "metadata": {
        "id": "pVMZ3gPZZs3G"
      }
    },
    {
      "cell_type": "code",
      "source": [
        "df['post'].isnull().sum()"
      ],
      "metadata": {
        "colab": {
          "base_uri": "https://localhost:8080/"
        },
        "id": "uuhbMHUWZlIB",
        "outputId": "2478c63d-7c7d-4dea-d37f-8da37dabee65"
      },
      "execution_count": null,
      "outputs": [
        {
          "output_type": "execute_result",
          "data": {
            "text/plain": [
              "0"
            ]
          },
          "metadata": {},
          "execution_count": 4
        }
      ]
    },
    {
      "cell_type": "code",
      "source": [
        "# remove punctations\n",
        "df['p']=df['post'].str.replace('\"', '')\n",
        "df['p'] = df['p'].apply(lambda elem: re.sub(r\"(@[A-Za-z0-9]+)|([^0-9A-Za-z \\t])|(\\w+:\\/\\/\\S+)|^rt|http.+?\", \"\", elem))\n",
        "df['p'] = df['p'].apply(lambda elem: re.sub(r\"\\d+\", \"\", elem))"
      ],
      "metadata": {
        "id": "SUR2zidtv-q2"
      },
      "execution_count": null,
      "outputs": []
    },
    {
      "cell_type": "markdown",
      "source": [
        "#### Clean, Remove Stop Words, Punctuations, lemmatize"
      ],
      "metadata": {
        "id": "2rRMjISlaH89"
      }
    },
    {
      "cell_type": "code",
      "source": [
        "def preprocess_txt(data):\n",
        "\n",
        "  data = word_tokenize(data) # create tokens\n",
        "  data = [x.lower() for x in data] # lowercase letters\n",
        "  data = [re.sub('[0-9]+', '', x) for x in data] # remove numbers\n",
        "  data = [porter.stem(word) for word in data] # stemming\n",
        "  data = [w for w in data if not w in STOP_WORDS] # remove stop words\n",
        "  data = list(filter(lambda token: token not in (str.maketrans('', '', string.punctuation)), data)) # remove punctutations\n",
        "  data = [x for x in data if len(x) > 1] # len > 1\n",
        "  data = [x for x in data if ' ' not in x] # no space\n",
        "  \n",
        "  return data"
      ],
      "metadata": {
        "id": "huhh3LFxZmwR"
      },
      "execution_count": null,
      "outputs": []
    },
    {
      "cell_type": "code",
      "source": [
        "df['clean_post'] = df['p'].apply(preprocess_txt)"
      ],
      "metadata": {
        "id": "4kL-Q_fGanFK"
      },
      "execution_count": null,
      "outputs": []
    },
    {
      "cell_type": "code",
      "source": [
        "df.head(20)"
      ],
      "metadata": {
        "colab": {
          "base_uri": "https://localhost:8080/",
          "height": 2554
        },
        "id": "Gezi1FNb7zOZ",
        "outputId": "3c1a6af0-55e6-4d2c-90a1-639f10f8c8fb"
      },
      "execution_count": null,
      "outputs": [
        {
          "output_type": "execute_result",
          "data": {
            "text/plain": [
              "    Unnamed: 0                                               post  \\\n",
              "0            0  \\n\\nBill Kristol and Ben Shaprio, two turds in...   \n",
              "1            1  \\n\\nRose\\n🌹Taylor‏ @RealRoseTaylor 6h6 hours a...   \n",
              "2            2  \\nCharlie Kirk‏\\n\\nJohnny Depp calls for death...   \n",
              "3            3  \\nDavid Knight‏ \\n\\nNotice how quickly things ...   \n",
              "4            4  \\nFinland fireball: Time-lapse video shows nig...   \n",
              "5            5  \\nICE\\n\\n“Today’s actions send a strong messag...   \n",
              "6            6  \\nIf family \"A\" went on a 2 month vacation,\\na...   \n",
              "7            7  \\nIsaiah 26:3\\nYou will keep in perfect peace ...   \n",
              "8            8  \\nJust watched facial recognition technology f...   \n",
              "9            9  \\nMany serial killers and all-around psychopat...   \n",
              "10          10  \\nShock Claim: Mystery planet might crash and ...   \n",
              "11          11  \\nYou Tube has Censored our Channel because we...   \n",
              "12          12   \\nCharlie Kirk\\n\\nEvery college socialist sho...   \n",
              "13          13   \"Love is like the wind, you can't see it but ...   \n",
              "14          14   @MadJewessWoman \\nI crushed it so it wilted y...   \n",
              "15          15   Breaking911\\n\\nBREAKING: 3 heavily armed gunm...   \n",
              "16          16   Breitbart is pro-Israel/ jew, that automatica...   \n",
              "17          17   Donald J. Trump‏\\n\\nIf last night’s election ...   \n",
              "18          18   Even if you believe Moore is innocent, you do...   \n",
              "19          19   Fox News‏\\n\\nGOPLeader: \"For every American t...   \n",
              "\n",
              "                                       targetMinority targetCategory  \\\n",
              "0                                                  []             []   \n",
              "1                                                  []             []   \n",
              "2                                        [\"liberals\"]     [\"social\"]   \n",
              "3                                                  []             []   \n",
              "4                                                  []             []   \n",
              "5                                                  []             []   \n",
              "6                                                  []             []   \n",
              "7                                                  []             []   \n",
              "8   [\"middle eastern folks\", \"muslim folks\", \"musl...    [\"culture\"]   \n",
              "9                                                  []             []   \n",
              "10                                                 []             []   \n",
              "11                                                 []             []   \n",
              "12                                                 []             []   \n",
              "13                                                 []             []   \n",
              "14                                                 []             []   \n",
              "15                                                 []             []   \n",
              "16                                                 []             []   \n",
              "17                                                 []             []   \n",
              "18                                                 []             []   \n",
              "19                                                 []             []   \n",
              "\n",
              "                                     targetStereotype  whoTarget  intentYN  \\\n",
              "0                                                  []        0.0  0.886667   \n",
              "1                                                  []        NaN  0.220000   \n",
              "2   [\"miscontrue things\", \"take things in a weird ...        1.0  1.000000   \n",
              "3                                                  []        0.0  0.110000   \n",
              "4                                                  []        NaN  0.000000   \n",
              "5                                                  []        NaN  0.000000   \n",
              "6                                                  []        0.0  0.443333   \n",
              "7                                                  []        NaN  0.000000   \n",
              "8   [\"middle eastern folks are terrorists\", \"middl...        1.0  1.000000   \n",
              "9                                                  []        0.0  0.440000   \n",
              "10                                                 []        NaN  0.000000   \n",
              "11                                                 []        0.0  0.553333   \n",
              "12                                                 []        0.0  0.220000   \n",
              "13                                                 []        NaN  0.000000   \n",
              "14                                                 []        0.0  0.220000   \n",
              "15                                                 []        0.0  0.110000   \n",
              "16                                                 []        0.0  0.550000   \n",
              "17                                                 []        NaN  0.220000   \n",
              "18                                                 []        0.0  0.220000   \n",
              "19                                                 []        NaN  0.000000   \n",
              "\n",
              "       sexYN  offensiveYN dataSource  hasBiasedImplication  \\\n",
              "0   0.000000     1.000000        Gab                     1   \n",
              "1   0.000000     0.000000        Gab                     1   \n",
              "2   0.000000     1.000000        Gab                     0   \n",
              "3   0.000000     0.166667        Gab                     1   \n",
              "4   0.000000     0.000000        Gab                     1   \n",
              "5   0.000000     0.000000        Gab                     1   \n",
              "6   0.000000     0.333333        Gab                     1   \n",
              "7   0.000000     0.000000        Gab                     1   \n",
              "8   0.000000     1.000000        Gab                     0   \n",
              "9   0.000000     0.500000        Gab                     1   \n",
              "10  0.000000     0.000000        Gab                     1   \n",
              "11  0.166667     0.500000        Gab                     1   \n",
              "12  0.000000     0.333333        Gab                     1   \n",
              "13  0.000000     0.000000        Gab                     1   \n",
              "14  0.000000     0.166667        Gab                     1   \n",
              "15  0.000000     0.333333        Gab                     1   \n",
              "16  0.000000     0.500000        Gab                     1   \n",
              "17  0.000000     0.000000        Gab                     1   \n",
              "18  0.000000     0.166667        Gab                     1   \n",
              "19  0.000000     0.000000        Gab                     1   \n",
              "\n",
              "                                                    p  \\\n",
              "0   Bill Kristol and Ben Shaprio two turds in the ...   \n",
              "1   RoseTaylor  h hours agoNewt nails it Say what ...   \n",
              "2   Charlie KirkJohnny Depp calls for death of Tru...   \n",
              "3   David Knight Notice how quickly things turned ...   \n",
              "4   Finland fireball Timelapse video shows night t...   \n",
              "5   ICETodays actions send a strong message to US ...   \n",
              "6   If family A went on a  month vacationand famil...   \n",
              "7   Isaiah You will keep in perfect peace those wh...   \n",
              "8   Just watched facial recognition technology fro...   \n",
              "9   Many serial killers and allaround psychopaths ...   \n",
              "10  Shock Claim Mystery planet might crash and end...   \n",
              "11  You Tube has Censored our Channel because we h...   \n",
              "12   Charlie KirkEvery college socialist should be...   \n",
              "13   Love is like the wind you cant see it but you...   \n",
              "14    I crushed it so it wilted yet you praise it ...   \n",
              "15   BreakingBREAKING  heavily armed gunmen with a...   \n",
              "16   Breitbart is proIsrael jew that automatically...   \n",
              "17   Donald J TrumpIf last nights election proved ...   \n",
              "18   Even if you believe Moore is innocent you don...   \n",
              "19   Fox NewsGOPLeader For every American that had...   \n",
              "\n",
              "                                           clean_post  \n",
              "0   [bill, kristol, ben, shaprio, turd, toilet, bowl]  \n",
              "1   [rosetaylor, hour, agonewt, nail, style, cant,...  \n",
              "2   [charli, kirkjohnni, depp, death, trump, left,...  \n",
              "3   [david, knight, notic, quickli, thing, turn, b...  \n",
              "4   [finland, firebal, timelaps, video, night, tur...  \n",
              "5   [icetoday, action, send, strong, messag, busi,...  \n",
              "6   [famili, went, month, vacationand, famili, hou...  \n",
              "7   [isaiah, perfect, peac, mind, steadfast, becau...  \n",
              "8   [watch, facial, recognit, technolog, china, pe...  \n",
              "9   [mani, serial, killer, allaround, psychopath, ...  \n",
              "10  [shock, claim, mysteri, planet, crash, end, li...  \n",
              "11  [tube, ha, censor, channel, becaus, tri, expos...  \n",
              "12  [charli, kirkeveri, colleg, socialist, encoura...  \n",
              "13                     [love, like, wind, cant, feel]  \n",
              "14                   [crush, wilt, prais, dont, know]  \n",
              "15  [breakingbreak, heavili, arm, gunmen, assault,...  \n",
              "16  [breitbart, proisrael, jew, automat, control, ...  \n",
              "17  [donald, trumpif, night, elect, prove, anyth, ...  \n",
              "18      [believ, moor, innoc, dont, blow, bezo, blog]  \n",
              "19  [fox, newsgoplead, everi, american, fought, pa...  "
            ],
            "text/html": [
              "\n",
              "  <div id=\"df-ecfee6e6-f36b-4c68-b5f9-35015cc91015\">\n",
              "    <div class=\"colab-df-container\">\n",
              "      <div>\n",
              "<style scoped>\n",
              "    .dataframe tbody tr th:only-of-type {\n",
              "        vertical-align: middle;\n",
              "    }\n",
              "\n",
              "    .dataframe tbody tr th {\n",
              "        vertical-align: top;\n",
              "    }\n",
              "\n",
              "    .dataframe thead th {\n",
              "        text-align: right;\n",
              "    }\n",
              "</style>\n",
              "<table border=\"1\" class=\"dataframe\">\n",
              "  <thead>\n",
              "    <tr style=\"text-align: right;\">\n",
              "      <th></th>\n",
              "      <th>Unnamed: 0</th>\n",
              "      <th>post</th>\n",
              "      <th>targetMinority</th>\n",
              "      <th>targetCategory</th>\n",
              "      <th>targetStereotype</th>\n",
              "      <th>whoTarget</th>\n",
              "      <th>intentYN</th>\n",
              "      <th>sexYN</th>\n",
              "      <th>offensiveYN</th>\n",
              "      <th>dataSource</th>\n",
              "      <th>hasBiasedImplication</th>\n",
              "      <th>p</th>\n",
              "      <th>clean_post</th>\n",
              "    </tr>\n",
              "  </thead>\n",
              "  <tbody>\n",
              "    <tr>\n",
              "      <th>0</th>\n",
              "      <td>0</td>\n",
              "      <td>\\n\\nBill Kristol and Ben Shaprio, two turds in...</td>\n",
              "      <td>[]</td>\n",
              "      <td>[]</td>\n",
              "      <td>[]</td>\n",
              "      <td>0.0</td>\n",
              "      <td>0.886667</td>\n",
              "      <td>0.000000</td>\n",
              "      <td>1.000000</td>\n",
              "      <td>Gab</td>\n",
              "      <td>1</td>\n",
              "      <td>Bill Kristol and Ben Shaprio two turds in the ...</td>\n",
              "      <td>[bill, kristol, ben, shaprio, turd, toilet, bowl]</td>\n",
              "    </tr>\n",
              "    <tr>\n",
              "      <th>1</th>\n",
              "      <td>1</td>\n",
              "      <td>\\n\\nRose\\n🌹Taylor‏ @RealRoseTaylor 6h6 hours a...</td>\n",
              "      <td>[]</td>\n",
              "      <td>[]</td>\n",
              "      <td>[]</td>\n",
              "      <td>NaN</td>\n",
              "      <td>0.220000</td>\n",
              "      <td>0.000000</td>\n",
              "      <td>0.000000</td>\n",
              "      <td>Gab</td>\n",
              "      <td>1</td>\n",
              "      <td>RoseTaylor  h hours agoNewt nails it Say what ...</td>\n",
              "      <td>[rosetaylor, hour, agonewt, nail, style, cant,...</td>\n",
              "    </tr>\n",
              "    <tr>\n",
              "      <th>2</th>\n",
              "      <td>2</td>\n",
              "      <td>\\nCharlie Kirk‏\\n\\nJohnny Depp calls for death...</td>\n",
              "      <td>[\"liberals\"]</td>\n",
              "      <td>[\"social\"]</td>\n",
              "      <td>[\"miscontrue things\", \"take things in a weird ...</td>\n",
              "      <td>1.0</td>\n",
              "      <td>1.000000</td>\n",
              "      <td>0.000000</td>\n",
              "      <td>1.000000</td>\n",
              "      <td>Gab</td>\n",
              "      <td>0</td>\n",
              "      <td>Charlie KirkJohnny Depp calls for death of Tru...</td>\n",
              "      <td>[charli, kirkjohnni, depp, death, trump, left,...</td>\n",
              "    </tr>\n",
              "    <tr>\n",
              "      <th>3</th>\n",
              "      <td>3</td>\n",
              "      <td>\\nDavid Knight‏ \\n\\nNotice how quickly things ...</td>\n",
              "      <td>[]</td>\n",
              "      <td>[]</td>\n",
              "      <td>[]</td>\n",
              "      <td>0.0</td>\n",
              "      <td>0.110000</td>\n",
              "      <td>0.000000</td>\n",
              "      <td>0.166667</td>\n",
              "      <td>Gab</td>\n",
              "      <td>1</td>\n",
              "      <td>David Knight Notice how quickly things turned ...</td>\n",
              "      <td>[david, knight, notic, quickli, thing, turn, b...</td>\n",
              "    </tr>\n",
              "    <tr>\n",
              "      <th>4</th>\n",
              "      <td>4</td>\n",
              "      <td>\\nFinland fireball: Time-lapse video shows nig...</td>\n",
              "      <td>[]</td>\n",
              "      <td>[]</td>\n",
              "      <td>[]</td>\n",
              "      <td>NaN</td>\n",
              "      <td>0.000000</td>\n",
              "      <td>0.000000</td>\n",
              "      <td>0.000000</td>\n",
              "      <td>Gab</td>\n",
              "      <td>1</td>\n",
              "      <td>Finland fireball Timelapse video shows night t...</td>\n",
              "      <td>[finland, firebal, timelaps, video, night, tur...</td>\n",
              "    </tr>\n",
              "    <tr>\n",
              "      <th>5</th>\n",
              "      <td>5</td>\n",
              "      <td>\\nICE\\n\\n“Today’s actions send a strong messag...</td>\n",
              "      <td>[]</td>\n",
              "      <td>[]</td>\n",
              "      <td>[]</td>\n",
              "      <td>NaN</td>\n",
              "      <td>0.000000</td>\n",
              "      <td>0.000000</td>\n",
              "      <td>0.000000</td>\n",
              "      <td>Gab</td>\n",
              "      <td>1</td>\n",
              "      <td>ICETodays actions send a strong message to US ...</td>\n",
              "      <td>[icetoday, action, send, strong, messag, busi,...</td>\n",
              "    </tr>\n",
              "    <tr>\n",
              "      <th>6</th>\n",
              "      <td>6</td>\n",
              "      <td>\\nIf family \"A\" went on a 2 month vacation,\\na...</td>\n",
              "      <td>[]</td>\n",
              "      <td>[]</td>\n",
              "      <td>[]</td>\n",
              "      <td>0.0</td>\n",
              "      <td>0.443333</td>\n",
              "      <td>0.000000</td>\n",
              "      <td>0.333333</td>\n",
              "      <td>Gab</td>\n",
              "      <td>1</td>\n",
              "      <td>If family A went on a  month vacationand famil...</td>\n",
              "      <td>[famili, went, month, vacationand, famili, hou...</td>\n",
              "    </tr>\n",
              "    <tr>\n",
              "      <th>7</th>\n",
              "      <td>7</td>\n",
              "      <td>\\nIsaiah 26:3\\nYou will keep in perfect peace ...</td>\n",
              "      <td>[]</td>\n",
              "      <td>[]</td>\n",
              "      <td>[]</td>\n",
              "      <td>NaN</td>\n",
              "      <td>0.000000</td>\n",
              "      <td>0.000000</td>\n",
              "      <td>0.000000</td>\n",
              "      <td>Gab</td>\n",
              "      <td>1</td>\n",
              "      <td>Isaiah You will keep in perfect peace those wh...</td>\n",
              "      <td>[isaiah, perfect, peac, mind, steadfast, becau...</td>\n",
              "    </tr>\n",
              "    <tr>\n",
              "      <th>8</th>\n",
              "      <td>8</td>\n",
              "      <td>\\nJust watched facial recognition technology f...</td>\n",
              "      <td>[\"middle eastern folks\", \"muslim folks\", \"musl...</td>\n",
              "      <td>[\"culture\"]</td>\n",
              "      <td>[\"middle eastern folks are terrorists\", \"middl...</td>\n",
              "      <td>1.0</td>\n",
              "      <td>1.000000</td>\n",
              "      <td>0.000000</td>\n",
              "      <td>1.000000</td>\n",
              "      <td>Gab</td>\n",
              "      <td>0</td>\n",
              "      <td>Just watched facial recognition technology fro...</td>\n",
              "      <td>[watch, facial, recognit, technolog, china, pe...</td>\n",
              "    </tr>\n",
              "    <tr>\n",
              "      <th>9</th>\n",
              "      <td>9</td>\n",
              "      <td>\\nMany serial killers and all-around psychopat...</td>\n",
              "      <td>[]</td>\n",
              "      <td>[]</td>\n",
              "      <td>[]</td>\n",
              "      <td>0.0</td>\n",
              "      <td>0.440000</td>\n",
              "      <td>0.000000</td>\n",
              "      <td>0.500000</td>\n",
              "      <td>Gab</td>\n",
              "      <td>1</td>\n",
              "      <td>Many serial killers and allaround psychopaths ...</td>\n",
              "      <td>[mani, serial, killer, allaround, psychopath, ...</td>\n",
              "    </tr>\n",
              "    <tr>\n",
              "      <th>10</th>\n",
              "      <td>10</td>\n",
              "      <td>\\nShock Claim: Mystery planet might crash and ...</td>\n",
              "      <td>[]</td>\n",
              "      <td>[]</td>\n",
              "      <td>[]</td>\n",
              "      <td>NaN</td>\n",
              "      <td>0.000000</td>\n",
              "      <td>0.000000</td>\n",
              "      <td>0.000000</td>\n",
              "      <td>Gab</td>\n",
              "      <td>1</td>\n",
              "      <td>Shock Claim Mystery planet might crash and end...</td>\n",
              "      <td>[shock, claim, mysteri, planet, crash, end, li...</td>\n",
              "    </tr>\n",
              "    <tr>\n",
              "      <th>11</th>\n",
              "      <td>11</td>\n",
              "      <td>\\nYou Tube has Censored our Channel because we...</td>\n",
              "      <td>[]</td>\n",
              "      <td>[]</td>\n",
              "      <td>[]</td>\n",
              "      <td>0.0</td>\n",
              "      <td>0.553333</td>\n",
              "      <td>0.166667</td>\n",
              "      <td>0.500000</td>\n",
              "      <td>Gab</td>\n",
              "      <td>1</td>\n",
              "      <td>You Tube has Censored our Channel because we h...</td>\n",
              "      <td>[tube, ha, censor, channel, becaus, tri, expos...</td>\n",
              "    </tr>\n",
              "    <tr>\n",
              "      <th>12</th>\n",
              "      <td>12</td>\n",
              "      <td>\\nCharlie Kirk\\n\\nEvery college socialist sho...</td>\n",
              "      <td>[]</td>\n",
              "      <td>[]</td>\n",
              "      <td>[]</td>\n",
              "      <td>0.0</td>\n",
              "      <td>0.220000</td>\n",
              "      <td>0.000000</td>\n",
              "      <td>0.333333</td>\n",
              "      <td>Gab</td>\n",
              "      <td>1</td>\n",
              "      <td>Charlie KirkEvery college socialist should be...</td>\n",
              "      <td>[charli, kirkeveri, colleg, socialist, encoura...</td>\n",
              "    </tr>\n",
              "    <tr>\n",
              "      <th>13</th>\n",
              "      <td>13</td>\n",
              "      <td>\"Love is like the wind, you can't see it but ...</td>\n",
              "      <td>[]</td>\n",
              "      <td>[]</td>\n",
              "      <td>[]</td>\n",
              "      <td>NaN</td>\n",
              "      <td>0.000000</td>\n",
              "      <td>0.000000</td>\n",
              "      <td>0.000000</td>\n",
              "      <td>Gab</td>\n",
              "      <td>1</td>\n",
              "      <td>Love is like the wind you cant see it but you...</td>\n",
              "      <td>[love, like, wind, cant, feel]</td>\n",
              "    </tr>\n",
              "    <tr>\n",
              "      <th>14</th>\n",
              "      <td>14</td>\n",
              "      <td>@MadJewessWoman \\nI crushed it so it wilted y...</td>\n",
              "      <td>[]</td>\n",
              "      <td>[]</td>\n",
              "      <td>[]</td>\n",
              "      <td>0.0</td>\n",
              "      <td>0.220000</td>\n",
              "      <td>0.000000</td>\n",
              "      <td>0.166667</td>\n",
              "      <td>Gab</td>\n",
              "      <td>1</td>\n",
              "      <td>I crushed it so it wilted yet you praise it ...</td>\n",
              "      <td>[crush, wilt, prais, dont, know]</td>\n",
              "    </tr>\n",
              "    <tr>\n",
              "      <th>15</th>\n",
              "      <td>15</td>\n",
              "      <td>Breaking911\\n\\nBREAKING: 3 heavily armed gunm...</td>\n",
              "      <td>[]</td>\n",
              "      <td>[]</td>\n",
              "      <td>[]</td>\n",
              "      <td>0.0</td>\n",
              "      <td>0.110000</td>\n",
              "      <td>0.000000</td>\n",
              "      <td>0.333333</td>\n",
              "      <td>Gab</td>\n",
              "      <td>1</td>\n",
              "      <td>BreakingBREAKING  heavily armed gunmen with a...</td>\n",
              "      <td>[breakingbreak, heavili, arm, gunmen, assault,...</td>\n",
              "    </tr>\n",
              "    <tr>\n",
              "      <th>16</th>\n",
              "      <td>16</td>\n",
              "      <td>Breitbart is pro-Israel/ jew, that automatica...</td>\n",
              "      <td>[]</td>\n",
              "      <td>[]</td>\n",
              "      <td>[]</td>\n",
              "      <td>0.0</td>\n",
              "      <td>0.550000</td>\n",
              "      <td>0.000000</td>\n",
              "      <td>0.500000</td>\n",
              "      <td>Gab</td>\n",
              "      <td>1</td>\n",
              "      <td>Breitbart is proIsrael jew that automatically...</td>\n",
              "      <td>[breitbart, proisrael, jew, automat, control, ...</td>\n",
              "    </tr>\n",
              "    <tr>\n",
              "      <th>17</th>\n",
              "      <td>17</td>\n",
              "      <td>Donald J. Trump‏\\n\\nIf last night’s election ...</td>\n",
              "      <td>[]</td>\n",
              "      <td>[]</td>\n",
              "      <td>[]</td>\n",
              "      <td>NaN</td>\n",
              "      <td>0.220000</td>\n",
              "      <td>0.000000</td>\n",
              "      <td>0.000000</td>\n",
              "      <td>Gab</td>\n",
              "      <td>1</td>\n",
              "      <td>Donald J TrumpIf last nights election proved ...</td>\n",
              "      <td>[donald, trumpif, night, elect, prove, anyth, ...</td>\n",
              "    </tr>\n",
              "    <tr>\n",
              "      <th>18</th>\n",
              "      <td>18</td>\n",
              "      <td>Even if you believe Moore is innocent, you do...</td>\n",
              "      <td>[]</td>\n",
              "      <td>[]</td>\n",
              "      <td>[]</td>\n",
              "      <td>0.0</td>\n",
              "      <td>0.220000</td>\n",
              "      <td>0.000000</td>\n",
              "      <td>0.166667</td>\n",
              "      <td>Gab</td>\n",
              "      <td>1</td>\n",
              "      <td>Even if you believe Moore is innocent you don...</td>\n",
              "      <td>[believ, moor, innoc, dont, blow, bezo, blog]</td>\n",
              "    </tr>\n",
              "    <tr>\n",
              "      <th>19</th>\n",
              "      <td>19</td>\n",
              "      <td>Fox News‏\\n\\nGOPLeader: \"For every American t...</td>\n",
              "      <td>[]</td>\n",
              "      <td>[]</td>\n",
              "      <td>[]</td>\n",
              "      <td>NaN</td>\n",
              "      <td>0.000000</td>\n",
              "      <td>0.000000</td>\n",
              "      <td>0.000000</td>\n",
              "      <td>Gab</td>\n",
              "      <td>1</td>\n",
              "      <td>Fox NewsGOPLeader For every American that had...</td>\n",
              "      <td>[fox, newsgoplead, everi, american, fought, pa...</td>\n",
              "    </tr>\n",
              "  </tbody>\n",
              "</table>\n",
              "</div>\n",
              "      <button class=\"colab-df-convert\" onclick=\"convertToInteractive('df-ecfee6e6-f36b-4c68-b5f9-35015cc91015')\"\n",
              "              title=\"Convert this dataframe to an interactive table.\"\n",
              "              style=\"display:none;\">\n",
              "        \n",
              "  <svg xmlns=\"http://www.w3.org/2000/svg\" height=\"24px\"viewBox=\"0 0 24 24\"\n",
              "       width=\"24px\">\n",
              "    <path d=\"M0 0h24v24H0V0z\" fill=\"none\"/>\n",
              "    <path d=\"M18.56 5.44l.94 2.06.94-2.06 2.06-.94-2.06-.94-.94-2.06-.94 2.06-2.06.94zm-11 1L8.5 8.5l.94-2.06 2.06-.94-2.06-.94L8.5 2.5l-.94 2.06-2.06.94zm10 10l.94 2.06.94-2.06 2.06-.94-2.06-.94-.94-2.06-.94 2.06-2.06.94z\"/><path d=\"M17.41 7.96l-1.37-1.37c-.4-.4-.92-.59-1.43-.59-.52 0-1.04.2-1.43.59L10.3 9.45l-7.72 7.72c-.78.78-.78 2.05 0 2.83L4 21.41c.39.39.9.59 1.41.59.51 0 1.02-.2 1.41-.59l7.78-7.78 2.81-2.81c.8-.78.8-2.07 0-2.86zM5.41 20L4 18.59l7.72-7.72 1.47 1.35L5.41 20z\"/>\n",
              "  </svg>\n",
              "      </button>\n",
              "      \n",
              "  <style>\n",
              "    .colab-df-container {\n",
              "      display:flex;\n",
              "      flex-wrap:wrap;\n",
              "      gap: 12px;\n",
              "    }\n",
              "\n",
              "    .colab-df-convert {\n",
              "      background-color: #E8F0FE;\n",
              "      border: none;\n",
              "      border-radius: 50%;\n",
              "      cursor: pointer;\n",
              "      display: none;\n",
              "      fill: #1967D2;\n",
              "      height: 32px;\n",
              "      padding: 0 0 0 0;\n",
              "      width: 32px;\n",
              "    }\n",
              "\n",
              "    .colab-df-convert:hover {\n",
              "      background-color: #E2EBFA;\n",
              "      box-shadow: 0px 1px 2px rgba(60, 64, 67, 0.3), 0px 1px 3px 1px rgba(60, 64, 67, 0.15);\n",
              "      fill: #174EA6;\n",
              "    }\n",
              "\n",
              "    [theme=dark] .colab-df-convert {\n",
              "      background-color: #3B4455;\n",
              "      fill: #D2E3FC;\n",
              "    }\n",
              "\n",
              "    [theme=dark] .colab-df-convert:hover {\n",
              "      background-color: #434B5C;\n",
              "      box-shadow: 0px 1px 3px 1px rgba(0, 0, 0, 0.15);\n",
              "      filter: drop-shadow(0px 1px 2px rgba(0, 0, 0, 0.3));\n",
              "      fill: #FFFFFF;\n",
              "    }\n",
              "  </style>\n",
              "\n",
              "      <script>\n",
              "        const buttonEl =\n",
              "          document.querySelector('#df-ecfee6e6-f36b-4c68-b5f9-35015cc91015 button.colab-df-convert');\n",
              "        buttonEl.style.display =\n",
              "          google.colab.kernel.accessAllowed ? 'block' : 'none';\n",
              "\n",
              "        async function convertToInteractive(key) {\n",
              "          const element = document.querySelector('#df-ecfee6e6-f36b-4c68-b5f9-35015cc91015');\n",
              "          const dataTable =\n",
              "            await google.colab.kernel.invokeFunction('convertToInteractive',\n",
              "                                                     [key], {});\n",
              "          if (!dataTable) return;\n",
              "\n",
              "          const docLinkHtml = 'Like what you see? Visit the ' +\n",
              "            '<a target=\"_blank\" href=https://colab.research.google.com/notebooks/data_table.ipynb>data table notebook</a>'\n",
              "            + ' to learn more about interactive tables.';\n",
              "          element.innerHTML = '';\n",
              "          dataTable['output_type'] = 'display_data';\n",
              "          await google.colab.output.renderOutput(dataTable, element);\n",
              "          const docLink = document.createElement('div');\n",
              "          docLink.innerHTML = docLinkHtml;\n",
              "          element.appendChild(docLink);\n",
              "        }\n",
              "      </script>\n",
              "    </div>\n",
              "  </div>\n",
              "  "
            ]
          },
          "metadata": {},
          "execution_count": 8
        }
      ]
    },
    {
      "cell_type": "markdown",
      "source": [
        "## EDA"
      ],
      "metadata": {
        "id": "RblyP9KsbrrD"
      }
    },
    {
      "cell_type": "markdown",
      "source": [
        "#### Sentiment polarity check with TextBlob\n",
        "\n",
        "When a sentence is passed into Textblob it gives two outputs, which are polarity and subjectivity. Polarity is the output that lies between [-1,1], where -1 refers to negative sentiment and +1 refers to positive sentiment. This is used to check data distribution "
      ],
      "metadata": {
        "id": "nCUj99z6dcHb"
      }
    },
    {
      "cell_type": "code",
      "source": [
        "df['lemma_clean_str'] = [' '.join(map(str,l)) for l in df['clean_post']]\n",
        "df['sentiment'] = df['lemma_clean_str'].apply(lambda x: TextBlob(x).sentiment.polarity)"
      ],
      "metadata": {
        "id": "hPn60soMcFet"
      },
      "execution_count": null,
      "outputs": []
    },
    {
      "cell_type": "code",
      "source": [
        "plt.figure(figsize=(6,6))\n",
        "plt.margins(0.05)\n",
        "plt.xlabel('Sentiment Polarity', fontsize =15, labelpad=20)\n",
        "plt.ylabel('Frequency', fontsize =15, labelpad=20)\n",
        "plt.hist(df['sentiment'], bins=10)\n",
        "plt.title('Sentiment Polarity Distribution', fontsize =15, pad=20)\n",
        "plt.savefig('gdrive/My Drive/Colab Notebooks/1.png')\n",
        "plt.show()\n"
      ],
      "metadata": {
        "colab": {
          "base_uri": "https://localhost:8080/",
          "height": 441
        },
        "id": "JOWFBsxkcWD_",
        "outputId": "53b7c1a8-66a0-43bc-e009-01a85aa41ab7"
      },
      "execution_count": null,
      "outputs": [
        {
          "output_type": "display_data",
          "data": {
            "text/plain": [
              "<Figure size 432x432 with 1 Axes>"
            ],
            "image/png": "[encoded data removed]"
          },
          "metadata": {
            "needs_background": "light"
          }
        }
      ]
    },
    {
      "cell_type": "markdown",
      "source": [
        "#### Findings_1: \n",
        "\n",
        "* Graph shows a combination of negatives, positives and neutral posts wherein most of them are netural and negatives"
      ],
      "metadata": {
        "id": "b57CJQ79eirm"
      }
    },
    {
      "cell_type": "code",
      "source": [
        "plt.figure(figsize=(6,6))\n",
        "x_bias = df.hasBiasedImplication.value_counts()\n",
        "y_bias = x_bias.sort_index()\n",
        "sns.barplot(x_bias.index, x_bias.values, alpha=0.8)\n",
        "plt.title(\"HasBias Distribution\", fontsize =15, pad=20)\n",
        "plt.ylabel('Frequency', fontsize =15, labelpad=20)\n",
        "plt.xlabel('HasBias=0, NoBias=1', fontsize =15, labelpad=20)\n",
        "plt.show()"
      ],
      "metadata": {
        "colab": {
          "base_uri": "https://localhost:8080/",
          "height": 441
        },
        "id": "DWgOXi1Je_66",
        "outputId": "2e0967b1-0c1e-4185-fe8a-3ac3b98222e3"
      },
      "execution_count": null,
      "outputs": [
        {
          "output_type": "display_data",
          "data": {
            "text/plain": [
              "<Figure size 432x432 with 1 Axes>"
            ],
            "image/png": "[encoded data removed]"
          },
          "metadata": {
            "needs_background": "light"
          }
        }
      ]
    },
    {
      "cell_type": "markdown",
      "source": [
        "#### Findings_2:\n",
        "\n",
        "* Graph Shows that there are almost ~12-13k posts are Offensive and has bias in them"
      ],
      "metadata": {
        "id": "Ro5iN7ZMgAz3"
      }
    },
    {
      "cell_type": "code",
      "source": [
        "# count the number of words in each post\n",
        "df['words_cnt'] = df['lemma_clean_str'].apply(lambda x: len(str(x).split()))\n",
        "\n",
        "word_avg = df.groupby('hasBiasedImplication')['words_cnt'].mean().plot(kind='bar')\n",
        "plt.xlabel('Social Bias', fontsize =15, labelpad=20)\n",
        "plt.ylabel('Count of Words in each post', fontsize =15, labelpad=20)\n",
        "plt.title('Average Number of Words per Post Distribution', fontsize =15, pad=20)\n",
        "plt.show()"
      ],
      "metadata": {
        "colab": {
          "base_uri": "https://localhost:8080/",
          "height": 329
        },
        "id": "Xn9nbabfgPU8",
        "outputId": "0ec59125-167a-4141-9bea-9731eacb448f"
      },
      "execution_count": null,
      "outputs": [
        {
          "output_type": "display_data",
          "data": {
            "text/plain": [
              "<Figure size 432x288 with 1 Axes>"
            ],
            "image/png": "[encoded data removed]"
          },
          "metadata": {
            "needs_background": "light"
          }
        }
      ]
    },
    {
      "cell_type": "markdown",
      "source": [
        "#### Findings_3:\n",
        "\n",
        "* Graph shows that most of post has 10-11 words"
      ],
      "metadata": {
        "id": "naUT5xEliEmQ"
      }
    },
    {
      "cell_type": "code",
      "source": [
        "import itertools\n",
        "\n",
        "word = df['lemma_clean_str']\n",
        "words = []\n",
        "my_word_arr = []\n",
        "a = []\n",
        "for wordlist in word:\n",
        "    my_word_arr.append(wordlist.split(' '))\n",
        "\n",
        "for arr in my_word_arr:\n",
        "  ab = itertools.chain(arr)\n",
        "  a += ab\n",
        "\n",
        "mostcmn = FreqDist(a).most_common(100)\n",
        "wordcloud = WordCloud(width=500, height=500, background_color='white').generate(str(mostcmn))\n",
        "fig = plt.figure(figsize=(5,5), facecolor='white')\n",
        "plt.imshow(wordcloud, interpolation=\"bilinear\")\n",
        "plt.axis('off')\n",
        "plt.title('Top 100 Most Common Words', fontsize=20)\n",
        "plt.tight_layout(pad=0)\n",
        "plt.show()"
      ],
      "metadata": {
        "id": "Ao3ho_Z7iN69",
        "colab": {
          "base_uri": "https://localhost:8080/",
          "height": 391
        },
        "outputId": "70bb039a-9978-4f63-ab79-93f573daa921"
      },
      "execution_count": null,
      "outputs": [
        {
          "output_type": "display_data",
          "data": {
            "text/plain": [
              "<Figure size 360x360 with 1 Axes>"
            ],
            "image/png": "[encoded data removed]"
          },
          "metadata": {}
        }
      ]
    },
    {
      "cell_type": "markdown",
      "source": [
        "#### Findings_4:\n",
        "\n",
        "* Most used words are like, fuck, black, know, hate in our database"
      ],
      "metadata": {
        "id": "0d1H0OScrQxZ"
      }
    },
    {
      "cell_type": "code",
      "source": [
        "Not_Offensive = df[df['offensiveYN'] == 0]\n",
        "Offensive = df[df['offensiveYN'] == 1]\n",
        "\n",
        "word = Offensive['lemma_clean_str']\n",
        "words = []\n",
        "my_word_arr = []\n",
        "a = []\n",
        "for wordlist in word:\n",
        "    my_word_arr.append(wordlist.split(' '))\n",
        "\n",
        "for arr in my_word_arr:\n",
        "  ab = itertools.chain(arr)\n",
        "  a += ab\n",
        "\n",
        "mostcmn = FreqDist(a).most_common(50)\n",
        "wordcloud = WordCloud(width=500, height=500, background_color='white').generate(str(mostcmn))\n",
        "fig = plt.figure(figsize=(5,5), facecolor='white')\n",
        "plt.imshow(wordcloud, interpolation=\"bilinear\")\n",
        "plt.axis('off')\n",
        "plt.title('Top 50 Common Offensive Words', fontsize=20)\n",
        "plt.tight_layout(pad=0)\n",
        "plt.show()"
      ],
      "metadata": {
        "colab": {
          "base_uri": "https://localhost:8080/",
          "height": 358
        },
        "id": "DQzTwuQbDupI",
        "outputId": "3af99031-21df-4a69-912f-fbd52bb665d3"
      },
      "execution_count": null,
      "outputs": [
        {
          "output_type": "display_data",
          "data": {
            "text/plain": [
              "<Figure size 360x360 with 1 Axes>"
            ],
            "image/png": "[encoded data removed]"
          },
          "metadata": {}
        }
      ]
    },
    {
      "cell_type": "markdown",
      "source": [
        "#### Findings_5:\n",
        "\n",
        "* Most common used offensive words are fuck, black, bitch, women, jew in our database"
      ],
      "metadata": {
        "id": "mbttmMinE-6f"
      }
    },
    {
      "cell_type": "code",
      "source": [
        "group_by = df.groupby('hasBiasedImplication')['lemma_clean_str'].apply(lambda x: Counter(' '.join(x).split()).most_common(25))\n",
        "group_by_0 = group_by.iloc[0]\n",
        "\n",
        "words0 = list(zip(*group_by_0))[0]\n",
        "freq0 = list(zip(*group_by_0))[1]\n",
        "plt.figure(figsize=(10, 10))\n",
        "plt.bar(words0, freq0)\n",
        "plt.xlabel('Words',fontsize =15, labelpad=20)\n",
        "plt.ylabel('Frequency of Words', fontsize =15, labelpad=20)\n",
        "plt.xticks(rotation=60)\n",
        "plt.title('Frequency of 25 Most Common Words for Rating=1', fontsize =17, pad=20)\n",
        "plt.show()"
      ],
      "metadata": {
        "colab": {
          "base_uri": "https://localhost:8080/",
          "height": 687
        },
        "id": "_QHeB4lLrZWs",
        "outputId": "cbd23b04-aea6-426b-af57-04a9950f794f"
      },
      "execution_count": null,
      "outputs": [
        {
          "output_type": "display_data",
          "data": {
            "text/plain": [
              "<Figure size 720x720 with 1 Axes>"
            ],
            "image/png": "[encoded data removed]"
          },
          "metadata": {
            "needs_background": "light"
          }
        }
      ]
    },
    {
      "cell_type": "markdown",
      "source": [
        "#### Apply Word2Vec to see most similar words learning from Model"
      ],
      "metadata": {
        "id": "J0BtWQtUGO0k"
      }
    },
    {
      "cell_type": "code",
      "source": [
        "model = Word2Vec(df['clean_post'], size=100, window=5, min_count=5, sg=1)"
      ],
      "metadata": {
        "id": "Hcc783zJGVRA"
      },
      "execution_count": null,
      "outputs": []
    },
    {
      "cell_type": "code",
      "source": [
        "pd.DataFrame(model.wv.most_similar('black'), columns=['Similar Words', 'Similarity'])"
      ],
      "metadata": {
        "colab": {
          "base_uri": "https://localhost:8080/",
          "height": 363
        },
        "id": "QdW0rgdFHLOL",
        "outputId": "17e1ec67-899c-4fb2-911c-8eaf4c0ce0bd"
      },
      "execution_count": null,
      "outputs": [
        {
          "output_type": "execute_result",
          "data": {
            "text/plain": [
              "  Similar Words  Similarity\n",
              "0           cop    0.860107\n",
              "1         chain    0.842327\n",
              "2      homeless    0.834973\n",
              "3         color    0.827927\n",
              "4       mexican    0.822515\n",
              "5          hang    0.822454\n",
              "6        indian    0.820421\n",
              "7        cotton    0.820221\n",
              "8        hispan    0.819918\n",
              "9           kkk    0.819203"
            ],
            "text/html": [
              "\n",
              "  <div id=\"df-eb65387f-8006-418c-a2d0-0840e50c0f49\">\n",
              "    <div class=\"colab-df-container\">\n",
              "      <div>\n",
              "<style scoped>\n",
              "    .dataframe tbody tr th:only-of-type {\n",
              "        vertical-align: middle;\n",
              "    }\n",
              "\n",
              "    .dataframe tbody tr th {\n",
              "        vertical-align: top;\n",
              "    }\n",
              "\n",
              "    .dataframe thead th {\n",
              "        text-align: right;\n",
              "    }\n",
              "</style>\n",
              "<table border=\"1\" class=\"dataframe\">\n",
              "  <thead>\n",
              "    <tr style=\"text-align: right;\">\n",
              "      <th></th>\n",
              "      <th>Similar Words</th>\n",
              "      <th>Similarity</th>\n",
              "    </tr>\n",
              "  </thead>\n",
              "  <tbody>\n",
              "    <tr>\n",
              "      <th>0</th>\n",
              "      <td>cop</td>\n",
              "      <td>0.860107</td>\n",
              "    </tr>\n",
              "    <tr>\n",
              "      <th>1</th>\n",
              "      <td>chain</td>\n",
              "      <td>0.842327</td>\n",
              "    </tr>\n",
              "    <tr>\n",
              "      <th>2</th>\n",
              "      <td>homeless</td>\n",
              "      <td>0.834973</td>\n",
              "    </tr>\n",
              "    <tr>\n",
              "      <th>3</th>\n",
              "      <td>color</td>\n",
              "      <td>0.827927</td>\n",
              "    </tr>\n",
              "    <tr>\n",
              "      <th>4</th>\n",
              "      <td>mexican</td>\n",
              "      <td>0.822515</td>\n",
              "    </tr>\n",
              "    <tr>\n",
              "      <th>5</th>\n",
              "      <td>hang</td>\n",
              "      <td>0.822454</td>\n",
              "    </tr>\n",
              "    <tr>\n",
              "      <th>6</th>\n",
              "      <td>indian</td>\n",
              "      <td>0.820421</td>\n",
              "    </tr>\n",
              "    <tr>\n",
              "      <th>7</th>\n",
              "      <td>cotton</td>\n",
              "      <td>0.820221</td>\n",
              "    </tr>\n",
              "    <tr>\n",
              "      <th>8</th>\n",
              "      <td>hispan</td>\n",
              "      <td>0.819918</td>\n",
              "    </tr>\n",
              "    <tr>\n",
              "      <th>9</th>\n",
              "      <td>kkk</td>\n",
              "      <td>0.819203</td>\n",
              "    </tr>\n",
              "  </tbody>\n",
              "</table>\n",
              "</div>\n",
              "      <button class=\"colab-df-convert\" onclick=\"convertToInteractive('df-eb65387f-8006-418c-a2d0-0840e50c0f49')\"\n",
              "              title=\"Convert this dataframe to an interactive table.\"\n",
              "              style=\"display:none;\">\n",
              "        \n",
              "  <svg xmlns=\"http://www.w3.org/2000/svg\" height=\"24px\"viewBox=\"0 0 24 24\"\n",
              "       width=\"24px\">\n",
              "    <path d=\"M0 0h24v24H0V0z\" fill=\"none\"/>\n",
              "    <path d=\"M18.56 5.44l.94 2.06.94-2.06 2.06-.94-2.06-.94-.94-2.06-.94 2.06-2.06.94zm-11 1L8.5 8.5l.94-2.06 2.06-.94-2.06-.94L8.5 2.5l-.94 2.06-2.06.94zm10 10l.94 2.06.94-2.06 2.06-.94-2.06-.94-.94-2.06-.94 2.06-2.06.94z\"/><path d=\"M17.41 7.96l-1.37-1.37c-.4-.4-.92-.59-1.43-.59-.52 0-1.04.2-1.43.59L10.3 9.45l-7.72 7.72c-.78.78-.78 2.05 0 2.83L4 21.41c.39.39.9.59 1.41.59.51 0 1.02-.2 1.41-.59l7.78-7.78 2.81-2.81c.8-.78.8-2.07 0-2.86zM5.41 20L4 18.59l7.72-7.72 1.47 1.35L5.41 20z\"/>\n",
              "  </svg>\n",
              "      </button>\n",
              "      \n",
              "  <style>\n",
              "    .colab-df-container {\n",
              "      display:flex;\n",
              "      flex-wrap:wrap;\n",
              "      gap: 12px;\n",
              "    }\n",
              "\n",
              "    .colab-df-convert {\n",
              "      background-color: #E8F0FE;\n",
              "      border: none;\n",
              "      border-radius: 50%;\n",
              "      cursor: pointer;\n",
              "      display: none;\n",
              "      fill: #1967D2;\n",
              "      height: 32px;\n",
              "      padding: 0 0 0 0;\n",
              "      width: 32px;\n",
              "    }\n",
              "\n",
              "    .colab-df-convert:hover {\n",
              "      background-color: #E2EBFA;\n",
              "      box-shadow: 0px 1px 2px rgba(60, 64, 67, 0.3), 0px 1px 3px 1px rgba(60, 64, 67, 0.15);\n",
              "      fill: #174EA6;\n",
              "    }\n",
              "\n",
              "    [theme=dark] .colab-df-convert {\n",
              "      background-color: #3B4455;\n",
              "      fill: #D2E3FC;\n",
              "    }\n",
              "\n",
              "    [theme=dark] .colab-df-convert:hover {\n",
              "      background-color: #434B5C;\n",
              "      box-shadow: 0px 1px 3px 1px rgba(0, 0, 0, 0.15);\n",
              "      filter: drop-shadow(0px 1px 2px rgba(0, 0, 0, 0.3));\n",
              "      fill: #FFFFFF;\n",
              "    }\n",
              "  </style>\n",
              "\n",
              "      <script>\n",
              "        const buttonEl =\n",
              "          document.querySelector('#df-eb65387f-8006-418c-a2d0-0840e50c0f49 button.colab-df-convert');\n",
              "        buttonEl.style.display =\n",
              "          google.colab.kernel.accessAllowed ? 'block' : 'none';\n",
              "\n",
              "        async function convertToInteractive(key) {\n",
              "          const element = document.querySelector('#df-eb65387f-8006-418c-a2d0-0840e50c0f49');\n",
              "          const dataTable =\n",
              "            await google.colab.kernel.invokeFunction('convertToInteractive',\n",
              "                                                     [key], {});\n",
              "          if (!dataTable) return;\n",
              "\n",
              "          const docLinkHtml = 'Like what you see? Visit the ' +\n",
              "            '<a target=\"_blank\" href=https://colab.research.google.com/notebooks/data_table.ipynb>data table notebook</a>'\n",
              "            + ' to learn more about interactive tables.';\n",
              "          element.innerHTML = '';\n",
              "          dataTable['output_type'] = 'display_data';\n",
              "          await google.colab.output.renderOutput(dataTable, element);\n",
              "          const docLink = document.createElement('div');\n",
              "          docLink.innerHTML = docLinkHtml;\n",
              "          element.appendChild(docLink);\n",
              "        }\n",
              "      </script>\n",
              "    </div>\n",
              "  </div>\n",
              "  "
            ]
          },
          "metadata": {},
          "execution_count": 19
        }
      ]
    },
    {
      "cell_type": "code",
      "source": [
        "def closestw_tsneplot(model, word):\n",
        "    '''\n",
        "     this class gets the word with the given pattern\n",
        "     We put the vectors of the words closest to the word into an array\n",
        "     With TSNE we convert these vectors to graphs.\n",
        "    '''\n",
        "    wc = np.empty((0,100)) # We have prepared a list of the closest ones\n",
        "    word_labels = [word] # we made the word\n",
        "    \n",
        "    close_words = model.wv.most_similar(word) # words found near\n",
        "    \n",
        "    wc = np.append(wc, np.array([model.wv[word]]), axis=0) # added vector of incoming word\n",
        "    \n",
        "    for w, _ in close_words: #w is the word itself the other is the affinity ratio\n",
        "        word_labels.append(w)\n",
        "        wc = np.append(wc, np.array([model.wv[w]]), axis=0) # Added vectors of close words\n",
        "        #so the incoming word and close words are word_labels, and their vectors are word_vectors.\n",
        "\n",
        "    tsne = TSNE(random_state=0)\n",
        "    Y = tsne.fit_transform(wc)\n",
        "    \n",
        "    x_coords = Y[:, 0]\n",
        "    y_coords = Y[:, 1]\n",
        "    \n",
        "    plt.scatter(x_coords, y_coords)\n",
        "    \n",
        "    for label, x, y in zip(word_labels, x_coords, y_coords):\n",
        "        plt.annotate(label, xy=(x, y), xytext=(5, -2), textcoords='offset points')\n",
        "        \n",
        "    plt.show()"
      ],
      "metadata": {
        "id": "ChQvMh6ZHVit"
      },
      "execution_count": null,
      "outputs": []
    },
    {
      "cell_type": "code",
      "source": [
        "closestw_tsneplot(model, 'piss')"
      ],
      "metadata": {
        "colab": {
          "base_uri": "https://localhost:8080/",
          "height": 265
        },
        "id": "eSm7stdsHbXP",
        "outputId": "6456287c-634f-4e47-9d4b-b565f281c956"
      },
      "execution_count": null,
      "outputs": [
        {
          "output_type": "display_data",
          "data": {
            "text/plain": [
              "<Figure size 432x288 with 1 Axes>"
            ],
            "image/png": "[encoded data removed]"
          },
          "metadata": {
            "needs_background": "light"
          }
        }
      ]
    },
    {
      "cell_type": "code",
      "source": [
        "closestw_tsneplot(model, 'black')"
      ],
      "metadata": {
        "colab": {
          "base_uri": "https://localhost:8080/",
          "height": 265
        },
        "id": "ZQHAqKS1Hhwa",
        "outputId": "4902fd6c-68d0-4d1d-f31b-7ddede23cfdd"
      },
      "execution_count": null,
      "outputs": [
        {
          "output_type": "display_data",
          "data": {
            "text/plain": [
              "<Figure size 432x288 with 1 Axes>"
            ],
            "image/png": "[encoded data removed]"
          },
          "metadata": {
            "needs_background": "light"
          }
        }
      ]
    },
    {
      "cell_type": "markdown",
      "source": [
        "#### Install and pull required packages for transformers"
      ],
      "metadata": {
        "id": "l9Idw4JD7hrb"
      }
    },
    {
      "cell_type": "code",
      "source": [
        "!pip install -qq transformers"
      ],
      "metadata": {
        "id": "zFo7knhwf8mx",
        "colab": {
          "base_uri": "https://localhost:8080/"
        },
        "outputId": "1bd85e59-c31d-4c94-ef2a-b6eedb705a5e"
      },
      "execution_count": null,
      "outputs": [
        {
          "output_type": "stream",
          "name": "stdout",
          "text": [
            "\u001b[K     |████████████████████████████████| 5.8 MB 27.7 MB/s \n",
            "\u001b[K     |████████████████████████████████| 182 kB 77.7 MB/s \n",
            "\u001b[K     |████████████████████████████████| 7.6 MB 63.9 MB/s \n",
            "\u001b[?25h"
          ]
        }
      ]
    },
    {
      "cell_type": "code",
      "source": [
        "import torch\n",
        "import numpy as np\n",
        "import matplotlib.pyplot as plt\n",
        "\n",
        "from google.colab import drive\n",
        "from torch import nn\n",
        "from torch.optim import Adam\n",
        "from transformers import GPT2Model, GPT2Tokenizer\n",
        "from tqdm import tqdm\n",
        "\n",
        "from sklearn.metrics import confusion_matrix\n",
        "from sklearn.metrics import ConfusionMatrixDisplay"
      ],
      "metadata": {
        "id": "rAlrMiJFgH4m"
      },
      "execution_count": null,
      "outputs": []
    },
    {
      "cell_type": "code",
      "source": [
        "# filtering the required columns\n",
        "df_f = df[['post', 'hasBiasedImplication']]\n",
        "df_o = df[['post', 'offensiveYN']]\n",
        "df_c = df[['post', 'targetCategory']]\n",
        "\n",
        "tokenizer = GPT2Tokenizer.from_pretrained('gpt2')\n",
        "tokenizer.padding_side = \"left\"\n",
        "tokenizer.pad_token = tokenizer.eos_token\n",
        "\n",
        "df_o.loc[df_o['offensiveYN'] >= 0.5, 'offensiveYN'] = 1\n",
        "df_o.loc[df_o['offensiveYN'] < 0.5, 'offensiveYN'] = 0\n",
        "df_o = df_o.astype({'offensiveYN': 'int32'})"
      ],
      "metadata": {
        "colab": {
          "base_uri": "https://localhost:8080/",
          "referenced_widgets": [
            "1d874e6c3b6445fb9f26368a1b0f91ac",
            "58c48f07dbc949f0b5db9cf4d0f62362",
            "06b225ddbf72404b8ca6d0451846ca6e",
            "9fd74f84d7624edaa0520745e1f5e931",
            "39980112967a4e6c9b0dd27927c4270d",
            "0aa88f67a3cc44cca37709fc028494df",
            "9560a8856ac841699ba291bf0e2c2bc0",
            "10ec2febe61c4bec81946baf0804e62e",
            "b686b13224a343dca49ce5fa872f1dd6",
            "fb42d01f4cfb4d4b91d035ba09177a36",
            "517eb531588f498ba163b57d123a0c42",
            "04bb57767fdf446abb0bcf429d0d59d0",
            "cabbb74f2e7f44c381cfb77776965d96",
            "c1670c6c716b4a1f85cf8feb17588690",
            "30880cc0dc4548aab8d5035057297ca6",
            "2bcd7ca6fbb140dd8ed203230b9fe770",
            "f1f554a04f634202926ffe6b276eaefd",
            "f7ba9cabd3264918b8c38502f31d8bd9",
            "e49191467d1b4d47bdf6e2990ac69dea",
            "a64373f94585412590cde3030e0cc4dd",
            "6751b601a3ac47e19a787a5a8dfb2204",
            "3dfe16c15210410bba31282cb2f799ab",
            "d983e770e7dc4927a50b7bfb4155811a",
            "fcd9fa5c0a0b44d98e4f00c7abdb7e25",
            "4596c42fd71748b0a236e331080cef07",
            "3e3af7553d944dad9223b98302899551",
            "6f23eab79ee54e1d8b660458d165a553",
            "dd69dd46916d4418bc6d52d6783472b4",
            "aaa3fc14ac1944828c7851dba1e9844c",
            "a33cb0ac3ee74f1cbbc6c18025c24548",
            "454c58d204ec4cf2be929d1bce8d04b9",
            "9294edd8fc9b4ab990dc386d8758c40d",
            "9b34a286dd894528973e9069ea54e79b"
          ],
          "height": 113
        },
        "id": "jtFmg7V8kLZs",
        "outputId": "2bebcf79-43fa-4db3-8c59-9a4058fbada2"
      },
      "execution_count": null,
      "outputs": [
        {
          "output_type": "display_data",
          "data": {
            "text/plain": [
              "Downloading:   0%|          | 0.00/1.04M [00:00<?, ?B/s]"
            ],
            "application/vnd.jupyter.widget-view+json": {
              "version_major": 2,
              "version_minor": 0,
              "model_id": "1d874e6c3b6445fb9f26368a1b0f91ac"
            }
          },
          "metadata": {}
        },
        {
          "output_type": "display_data",
          "data": {
            "text/plain": [
              "Downloading:   0%|          | 0.00/456k [00:00<?, ?B/s]"
            ],
            "application/vnd.jupyter.widget-view+json": {
              "version_major": 2,
              "version_minor": 0,
              "model_id": "04bb57767fdf446abb0bcf429d0d59d0"
            }
          },
          "metadata": {}
        },
        {
          "output_type": "display_data",
          "data": {
            "text/plain": [
              "Downloading:   0%|          | 0.00/665 [00:00<?, ?B/s]"
            ],
            "application/vnd.jupyter.widget-view+json": {
              "version_major": 2,
              "version_minor": 0,
              "model_id": "d983e770e7dc4927a50b7bfb4155811a"
            }
          },
          "metadata": {}
        }
      ]
    },
    {
      "cell_type": "markdown",
      "source": [
        "#### DataRead"
      ],
      "metadata": {
        "id": "fpOaEN0vqB-o"
      }
    },
    {
      "cell_type": "code",
      "source": [
        "class Dataset_c(torch.utils.data.Dataset):\n",
        "    def __init__(self, df, labels_values, lable_column, data_column):\n",
        "        if labels_values is None:\n",
        "          self.labels = [label for label in df[lable_column]] # check\n",
        "        else:\n",
        "          self.labels = [labels_values[label] for label in df[lable_column]]\n",
        "        self.texts = [tokenizer(text,\n",
        "                                padding='max_length',\n",
        "                                max_length=128,\n",
        "                                truncation=True,\n",
        "                                return_tensors=\"pt\") for text in df[data_column]]\n",
        "        \n",
        "    def classes(self):\n",
        "        return self.labels\n",
        "    \n",
        "    def __len__(self):\n",
        "        return len(self.labels)\n",
        "    \n",
        "    def get_batch_labels(self, idx):\n",
        "        # Get batch labels\n",
        "        return np.array(self.labels[idx])\n",
        "    \n",
        "    def get_batch_texts(self, idx):\n",
        "        # Get batch inputs\n",
        "        return self.texts[idx]\n",
        "    \n",
        "    def __getitem__(self, idx):\n",
        "        batch_texts = self.get_batch_texts(idx)\n",
        "        batch_y = self.get_batch_labels(idx)\n",
        "        return batch_texts, batch_y"
      ],
      "metadata": {
        "id": "aEdiRe4M26wW"
      },
      "execution_count": null,
      "outputs": []
    },
    {
      "cell_type": "code",
      "source": [
        "class SimpleGPT2SequenceClassifier(nn.Module):\n",
        "    '''\n",
        "    This class loads the GPT2 Pretrained Model\n",
        "    '''\n",
        "    def __init__(self, hidden_size: int, num_classes:int ,max_seq_len:int, gpt_model_name:str):\n",
        "        super(SimpleGPT2SequenceClassifier,self).__init__()\n",
        "        self.gpt2model = GPT2Model.from_pretrained(gpt_model_name)\n",
        "        self.fc1 = nn.Linear(hidden_size*max_seq_len, num_classes)\n",
        "\n",
        "        \n",
        "    def forward(self, input_id, mask):\n",
        "        \n",
        "        gpt_out, _ = self.gpt2model(input_ids=input_id, attention_mask=mask, return_dict=False)\n",
        "        batch_size = gpt_out.shape[0]\n",
        "        linear_output = self.fc1(gpt_out.view(batch_size,-1))\n",
        "        return linear_output"
      ],
      "metadata": {
        "id": "uwnWFATvc7Xe"
      },
      "execution_count": null,
      "outputs": []
    },
    {
      "cell_type": "code",
      "source": [
        "def train(model, train_data, val_data, learning_rate, epochs):\n",
        "\n",
        "    '''\n",
        "    This function is used to train the dataset on train and validation sets against GPT2 Model\n",
        "    '''\n",
        "    train, val = train_data, val_data\n",
        "\n",
        "    # Load Train and Validation Stes\n",
        "    \n",
        "    train_dataloader = torch.utils.data.DataLoader(train, batch_size=2, shuffle=True) \n",
        "    val_dataloader = torch.utils.data.DataLoader(val, batch_size=2)\n",
        "    \n",
        "    # Check cuda availability\n",
        "\n",
        "    use_cuda = torch.cuda.is_available()\n",
        "    device = torch.device(\"cuda\" if use_cuda else \"cpu\")\n",
        "    \n",
        "    # Set critertion and optimizer\n",
        "\n",
        "    criterion = nn.CrossEntropyLoss()\n",
        "    optimizer = Adam(model.parameters(), lr=learning_rate)\n",
        "    \n",
        "    if use_cuda:\n",
        "        model = model.cuda()\n",
        "        criterion = criterion.cuda()\n",
        "\n",
        "    # For each epoch do the following\n",
        "\n",
        "    for epoch_num in range(epochs):\n",
        "        total_acc_train = 0\n",
        "        total_loss_train = 0\n",
        "        \n",
        "        for train_input, train_label in tqdm(train_dataloader):\n",
        "            train_label = train_label.to(device)\n",
        "            mask = train_input['attention_mask'].to(device)\n",
        "            input_id = train_input[\"input_ids\"].squeeze(1).to(device)\n",
        "            \n",
        "            model.zero_grad()\n",
        "\n",
        "            # predict output\n",
        "            output = model(input_id, mask)\n",
        "            \n",
        "            # check loss\n",
        "            batch_loss = criterion(output, train_label)\n",
        "            total_loss_train += batch_loss.item()\n",
        "            \n",
        "            acc = (output.argmax(dim=1)==train_label).sum().item()\n",
        "            total_acc_train += acc\n",
        "            \n",
        "            # calculates grads\n",
        "            batch_loss.backward()\n",
        "            optimizer.step()\n",
        "            \n",
        "        total_acc_val = 0\n",
        "        total_loss_val = 0\n",
        "        \n",
        "        with torch.no_grad():\n",
        "            \n",
        "            for val_input, val_label in val_dataloader:\n",
        "                val_label = val_label.to(device)\n",
        "                mask = val_input['attention_mask'].to(device)\n",
        "                input_id = val_input['input_ids'].squeeze(1).to(device)\n",
        "                \n",
        "                output = model(input_id, mask)\n",
        "                \n",
        "                batch_loss = criterion(output, val_label)\n",
        "                total_loss_val += batch_loss.item()\n",
        "                \n",
        "                acc = (output.argmax(dim=1)==val_label).sum().item()\n",
        "                total_acc_val += acc\n",
        "                \n",
        "            print(\n",
        "            f\"Epochs: {epoch_num + 1} | Train Loss: {total_loss_train/len(train_data): .3f} \\\n",
        "            | Train Accuracy: {total_acc_train / len(train_data): .3f} \\\n",
        "            | Val Loss: {total_loss_val / len(val_data): .3f} \\\n",
        "            | Val Accuracy: {total_acc_val / len(val_data): .3f}\")"
      ],
      "metadata": {
        "id": "EpuOe2F6c7Zy"
      },
      "execution_count": null,
      "outputs": []
    },
    {
      "cell_type": "code",
      "source": [
        "def evaluate(model, test_data):\n",
        "\n",
        "    test = test_data\n",
        "\n",
        "    test_dataloader = torch.utils.data.DataLoader(test, batch_size=2)\n",
        "\n",
        "    use_cuda = torch.cuda.is_available()\n",
        "    device = torch.device(\"cuda\" if use_cuda else \"cpu\")\n",
        "\n",
        "    if use_cuda:\n",
        "\n",
        "        model = model.cuda()\n",
        "\n",
        "        \n",
        "    # Tracking variables\n",
        "    predictions_labels = []\n",
        "    true_labels = []\n",
        "    \n",
        "    total_acc_test = 0\n",
        "    with torch.no_grad():\n",
        "\n",
        "        for test_input, test_label in test_dataloader:\n",
        "\n",
        "            test_label = test_label.to(device)\n",
        "            mask = test_input['attention_mask'].to(device)\n",
        "            input_id = test_input['input_ids'].squeeze(1).to(device)\n",
        "\n",
        "            output = model(input_id, mask)\n",
        "\n",
        "            acc = (output.argmax(dim=1) == test_label).sum().item()\n",
        "            total_acc_test += acc\n",
        "            \n",
        "            # add original labels\n",
        "            true_labels += test_label.cpu().numpy().flatten().tolist()\n",
        "            # add predicitons to list\n",
        "            predictions_labels += output.argmax(dim=1).cpu().numpy().flatten().tolist()\n",
        "    \n",
        "    print(f'Test Accuracy: {total_acc_test / len(test_data): .3f}')\n",
        "    return true_labels, predictions_labels"
      ],
      "metadata": {
        "id": "qT2AAgP-qZvd"
      },
      "execution_count": null,
      "outputs": []
    },
    {
      "cell_type": "markdown",
      "source": [
        "#### Split the dataset"
      ],
      "metadata": {
        "id": "WOWc-S1kqPA_"
      }
    },
    {
      "cell_type": "code",
      "source": [
        "# offensive or not\n",
        "np.random.seed(112)\n",
        "df_o_train, df_o_val, df_o_test = np.split(df_o.sample(frac=1, random_state=35), [int(0.8*len(df_o)), int(0.9*len(df_o))])\n",
        "\n",
        "print(len(df_o_train), len(df_o_val), len(df_o_test))\n",
        "\n",
        "categories = df_c['targetCategory'].unique()\n",
        "labels_test = {}\n",
        "for i, c in enumerate(categories):\n",
        "  key, value = c, i\n",
        "  labels_test[key] = value\n",
        "\n",
        "# target category\n",
        "df_c_train, df_c_val, df_c_test = np.split(df_c.sample(frac=1, random_state=35), [int(0.8*len(df_c)), int(0.9*len(df_c))])\n",
        "\n",
        "print(len(df_c_train), len(df_c_val), len(df_c_test))\n",
        "\n",
        "\n",
        "\n",
        "# bias or not\n",
        "df_f_train, df_f_val, df_f_test = np.split(df_f.sample(frac=1, random_state=35), [int(0.8*len(df_f)), int(0.9*len(df_f))])\n",
        "\n",
        "print(len(df_f_train), len(df_f_val), len(df_f_test))"
      ],
      "metadata": {
        "colab": {
          "base_uri": "https://localhost:8080/"
        },
        "id": "C-NHnfREqOMZ",
        "outputId": "e9e74949-5a7d-4213-d8d1-e02e04fc3c85"
      },
      "execution_count": null,
      "outputs": [
        {
          "output_type": "stream",
          "name": "stdout",
          "text": [
            "28339 3542 3543\n",
            "28339 3542 3543\n",
            "28339 3542 3543\n"
          ]
        }
      ]
    },
    {
      "cell_type": "code",
      "source": [
        "df_o_train_1 = Dataset_c(df_o_train, None, 'offensiveYN', 'post')\n",
        "df_o_val_1 = Dataset_c(df_o_val, None, 'offensiveYN', 'post')\n",
        "df_o_test_1 = Dataset_c(df_o_test, None, 'offensiveYN', 'post')\n",
        "\n",
        "df_c_train_1 = Dataset_c(df_c_train, labels_test, 'targetCategory', 'post')\n",
        "df_c_val_1 = Dataset_c(df_c_val, labels_test, 'targetCategory', 'post')\n",
        "df_c_test_1 = Dataset_c(df_c_test, labels_test, 'targetCategory', 'post')\n",
        "\n",
        "df_f_train_1 = Dataset_c(df_f_train, None, 'hasBiasedImplication', 'post')\n",
        "df_f_val_1 = Dataset_c(df_f_val, None, 'hasBiasedImplication', 'post')\n",
        "df_f_test_1 = Dataset_c(df_f_test, None, 'hasBiasedImplication', 'post')"
      ],
      "metadata": {
        "id": "P83-hJ-Z2qdY"
      },
      "execution_count": null,
      "outputs": []
    },
    {
      "cell_type": "markdown",
      "source": [
        "#### Train Offensive Classification Model"
      ],
      "metadata": {
        "id": "pKHATIlsqTZu"
      }
    },
    {
      "cell_type": "code",
      "source": [
        "EPOCHS = 1\n",
        "model1 = SimpleGPT2SequenceClassifier(hidden_size=768, num_classes=2, max_seq_len=128, gpt_model_name=\"gpt2\")\n",
        "LR = 1e-5\n",
        "\n",
        "train(model1, df_o_train_1, df_o_val_1, LR, EPOCHS)"
      ],
      "metadata": {
        "colab": {
          "base_uri": "https://localhost:8080/",
          "height": 85,
          "referenced_widgets": [
            "6550f352072240ab91373f9af4505346",
            "df47fff8d496402db062286ad2ff8b9b",
            "39379100f00c453a8ba2eda6f6fb9a2a",
            "017374a3e3934fefb7723baefaf99c7f",
            "87bd54fbb4f2416ab26e06a072bba7ad",
            "f9cbef89bdb44ebc9670d0228332c880",
            "59154ce95d2e4fdda613f455866fb5a8",
            "dac65fed02844e6abb41d0e686932801",
            "7c7f62798ee3431bb1c28d4270531b52",
            "0914b53e552043b2b37761c3501859a3",
            "14e964c16cee44f6a8fbc50980b289fd"
          ]
        },
        "id": "nKCapbcsdmvZ",
        "outputId": "21073f0e-1c23-4303-bb6e-b122ec6e26fe"
      },
      "execution_count": null,
      "outputs": [
        {
          "output_type": "display_data",
          "data": {
            "text/plain": [
              "Downloading:   0%|          | 0.00/548M [00:00<?, ?B/s]"
            ],
            "application/vnd.jupyter.widget-view+json": {
              "version_major": 2,
              "version_minor": 0,
              "model_id": "6550f352072240ab91373f9af4505346"
            }
          },
          "metadata": {}
        },
        {
          "output_type": "stream",
          "name": "stderr",
          "text": [
            "100%|██████████| 14170/14170 [23:06<00:00, 10.22it/s]\n"
          ]
        },
        {
          "output_type": "stream",
          "name": "stdout",
          "text": [
            "Epochs: 1 | Train Loss:  0.250             | Train Accuracy:  0.759             | Val Loss:  0.305             | Val Accuracy:  0.727\n"
          ]
        }
      ]
    },
    {
      "cell_type": "markdown",
      "source": [
        "#### Train Category Classification Model"
      ],
      "metadata": {
        "id": "9D6UXag2ziOi"
      }
    },
    {
      "cell_type": "code",
      "source": [
        "EPOCHS = 1\n",
        "model2 = SimpleGPT2SequenceClassifier(hidden_size=768, num_classes=50, max_seq_len=128, gpt_model_name=\"gpt2\")\n",
        "LR = 1e-5\n",
        "\n",
        "train(model2, df_c_train_1, df_c_val_1, LR, EPOCHS)"
      ],
      "metadata": {
        "colab": {
          "base_uri": "https://localhost:8080/"
        },
        "id": "sDtWq8oX8cQp",
        "outputId": "e790f0d3-df44-4ff8-f35c-b37acf23915d"
      },
      "execution_count": null,
      "outputs": [
        {
          "output_type": "stream",
          "name": "stderr",
          "text": [
            "100%|██████████| 14170/14170 [23:32<00:00, 10.03it/s]\n"
          ]
        },
        {
          "output_type": "stream",
          "name": "stdout",
          "text": [
            "Epochs: 1 | Train Loss:  0.529             | Train Accuracy:  0.704             | Val Loss:  0.474             | Val Accuracy:  0.725\n"
          ]
        }
      ]
    },
    {
      "cell_type": "markdown",
      "source": [
        "#### Train BiasImplication Classification Model"
      ],
      "metadata": {
        "id": "sHIg4m9vzqG7"
      }
    },
    {
      "cell_type": "code",
      "source": [
        "EPOCHS = 1\n",
        "model3 = SimpleGPT2SequenceClassifier(hidden_size=768, num_classes=2, max_seq_len=128, gpt_model_name=\"gpt2\")\n",
        "LR = 1e-5\n",
        "\n",
        "train(model3, df_f_train_1, df_f_val_1, LR, EPOCHS)"
      ],
      "metadata": {
        "id": "Js1P1Fl29mdk",
        "colab": {
          "base_uri": "https://localhost:8080/"
        },
        "outputId": "36d796ff-f15f-4244-9673-181249d7b9dd"
      },
      "execution_count": null,
      "outputs": [
        {
          "output_type": "stream",
          "name": "stderr",
          "text": [
            "100%|██████████| 14170/14170 [23:01<00:00, 10.26it/s]\n"
          ]
        },
        {
          "output_type": "stream",
          "name": "stdout",
          "text": [
            "Epochs: 1 | Train Loss:  0.238             | Train Accuracy:  0.770             | Val Loss:  0.206             | Val Accuracy:  0.799\n"
          ]
        }
      ]
    },
    {
      "cell_type": "markdown",
      "source": [
        "#### Evaluate the Offensive Classification Model"
      ],
      "metadata": {
        "id": "N-6O19w9qdnG"
      }
    },
    {
      "cell_type": "code",
      "source": [
        "true_labels_o, pred_labels_o = evaluate(model1, df_o_test_1)"
      ],
      "metadata": {
        "id": "isUUVbxhdm0u",
        "colab": {
          "base_uri": "https://localhost:8080/"
        },
        "outputId": "ae8445f2-6357-4882-f49c-38511a9b8f8a"
      },
      "execution_count": null,
      "outputs": [
        {
          "output_type": "stream",
          "name": "stdout",
          "text": [
            "Test Accuracy:  0.726\n"
          ]
        }
      ]
    },
    {
      "cell_type": "code",
      "source": [
        "true_labels_c, pred_labels_c = evaluate(model2, df_c_test_1)"
      ],
      "metadata": {
        "id": "_eB2Pe0R8fIx",
        "colab": {
          "base_uri": "https://localhost:8080/"
        },
        "outputId": "020b3e32-2be3-4608-e450-1081c80fdc3a"
      },
      "execution_count": null,
      "outputs": [
        {
          "output_type": "stream",
          "name": "stdout",
          "text": [
            "Test Accuracy:  0.721\n"
          ]
        }
      ]
    },
    {
      "cell_type": "code",
      "source": [
        "true_labels_f, pred_labels_f = evaluate(model3, df_f_test_1)"
      ],
      "metadata": {
        "id": "G0BkJfO49vzY",
        "colab": {
          "base_uri": "https://localhost:8080/"
        },
        "outputId": "c028e689-e39c-45b8-d70e-e2bfdf7da880"
      },
      "execution_count": null,
      "outputs": [
        {
          "output_type": "stream",
          "name": "stdout",
          "text": [
            "Test Accuracy:  0.800\n"
          ]
        }
      ]
    },
    {
      "cell_type": "markdown",
      "source": [
        "### Save the model"
      ],
      "metadata": {
        "id": "lTdc0zGsNg2f"
      }
    },
    {
      "cell_type": "code",
      "source": [
        "model_save_name = 'Offensive.pt'\n",
        "path = F\"/content/gdrive/My Drive/Colab Notebooks/models/{model_save_name}\" \n",
        "torch.save(model1.state_dict(), path)\n",
        "\n",
        "model_save_name = 'Category.pt'\n",
        "path = F\"/content/gdrive/My Drive/Colab Notebooks/models/{model_save_name}\" \n",
        "torch.save(model2.state_dict(), path)\n",
        "\n",
        "model_save_name = 'BiasImplication.pt'\n",
        "path = F\"/content/gdrive/My Drive/Colab Notebooks/models/{model_save_name}\" \n",
        "torch.save(model3.state_dict(), path)"
      ],
      "metadata": {
        "id": "SE8HesE_Nfsd"
      },
      "execution_count": null,
      "outputs": []
    }
  ]
}